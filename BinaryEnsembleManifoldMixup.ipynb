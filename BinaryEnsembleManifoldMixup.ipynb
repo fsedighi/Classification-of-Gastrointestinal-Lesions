{
 "metadata": {
  "language_info": {
   "codemirror_mode": {
    "name": "ipython",
    "version": 3
   },
   "file_extension": ".py",
   "mimetype": "text/x-python",
   "name": "python",
   "nbconvert_exporter": "python",
   "pygments_lexer": "ipython3",
   "version": "3.8.5-final"
  },
  "orig_nbformat": 2,
  "kernelspec": {
   "name": "python3",
   "display_name": "Python 3.8.5 64-bit ('MR.Mohebbian': virtualenv)",
   "metadata": {
    "interpreter": {
     "hash": "dcf4a415ca83291c7f1c53e2c047d1b4fa16418cbb17c8d1d496605e4de4e2d5"
    }
   }
  }
 },
 "nbformat": 4,
 "nbformat_minor": 2,
 "cells": [
  {
   "cell_type": "code",
   "execution_count": 150,
   "metadata": {},
   "outputs": [],
   "source": [
    "import numpy as np\n",
    "import numpy.random as nprand\n",
    "import matplotlib.pyplot as plt\n",
    "import pandas as pd\n",
    "import math as math\n",
    "\n",
    "from sklearn.feature_selection import SelectKBest\n",
    "from sklearn.feature_selection import chi2, f_classif \n",
    "from sklearn.model_selection import cross_val_score"
   ]
  },
  {
   "cell_type": "code",
   "execution_count": 151,
   "metadata": {},
   "outputs": [],
   "source": [
    "# The original data = df\n",
    "df = pd.read_csv('data.csv',\n",
    "    header=None,\n",
    "    index_col=False).T"
   ]
  },
  {
   "cell_type": "code",
   "execution_count": 152,
   "metadata": {},
   "outputs": [],
   "source": [
    "lesions=df.iloc[:,1].apply(pd.to_numeric)\n",
    "light=df.iloc[:,2].apply(pd.to_numeric)\n",
    "features=df.iloc[:,3:-1].apply(pd.to_numeric)\n",
    "labelNames=['hyperplasic', 'serrated', 'adenoma']"
   ]
  },
  {
   "cell_type": "code",
   "execution_count": 153,
   "metadata": {},
   "outputs": [],
   "source": [
    "from sklearn.model_selection import train_test_split\n",
    "import copy\n",
    "X_train, X_test, y_train, y_test = train_test_split(features, lesions, test_size=0.3,stratify=lesions)\n",
    "\n",
    "class Problem:\n",
    "    def __init__(self,index,fTrain,yTrain,fTest,yTest):\n",
    "        self.problemNumber=index\n",
    "        self.featuresTrain=fTrain\n",
    "        self.targetsTrain=yTrain\n",
    "        \n",
    "        self.featuresTest=fTest\n",
    "        self.targetsTest=yTest\n",
    "        \n",
    "        self.models=[]\n",
    "\n",
    "trainingTargets=[]\n",
    "testTargets=[]\n",
    "problems=[]\n",
    "for classNumber in range(1,len(labelNames)+1):\n",
    "    y_train_temp=copy.copy(y_train)\n",
    "    y_test_temp=copy.copy(y_test)\n",
    "    \n",
    "    y_train_temp[lesions==classNumber]=-1\n",
    "    y_train_temp[lesions!=classNumber]=1\n",
    "    y_test_temp[lesions==classNumber]=-1\n",
    "    y_test_temp[lesions!=classNumber]=1\n",
    "    problems.append(Problem(classNumber,X_train,y_train_temp,X_test,y_test_temp))"
   ]
  },
  {
   "cell_type": "code",
   "execution_count": 154,
   "metadata": {},
   "outputs": [],
   "source": [
    "import tensorflow as tf\n",
    "class ManifoldMixupBinary:\n",
    "    def __init__(self,features=None,targets=None,mixup_alpha=None):\n",
    "        self.alpha = mixup_alpha\n",
    "        self.features = features\n",
    "        self.tragets = targets\n",
    "\n",
    "    def mixup(self, lmbda, inputs_a, inputs_b):\n",
    "        return lmbda * inputs_a + (1 - lmbda) * inputs_b\n",
    "\n",
    "    def syntesize(self):\n",
    "        lmbda = np.random.beta(self.alpha,self.alpha,1)\n",
    "        indices=np.arange(0,self.features.shape[0])\n",
    "        np.random.shuffle(indices)\n",
    "        x_mixup = self.mixup(lmbda, self.features, self.features[indices])\n",
    "        y_mixup = self.mixup(lmbda, self.tragets, self.tragets[indices])\n",
    "        return x_mixup, y_mixup\n",
    "X=problems[0].featuresTrain.values\n",
    "y=problems[0].targetsTrain.values\n",
    "\n"
   ]
  },
  {
   "source": [
    "### Create base regressor models using manifold mixup"
   ],
   "cell_type": "markdown",
   "metadata": {}
  },
  {
   "cell_type": "code",
   "execution_count": 155,
   "metadata": {},
   "outputs": [
    {
     "output_type": "stream",
     "name": "stdout",
     "text": [
      "problem 1\n",
      "              precision    recall  f1-score   support\n",
      "\n",
      "        -1.0       0.93      0.84      0.88       493\n",
      "         1.0       0.94      0.98      0.96      1309\n",
      "\n",
      "    accuracy                           0.94      1802\n",
      "   macro avg       0.94      0.91      0.92      1802\n",
      "weighted avg       0.94      0.94      0.94      1802\n",
      "\n",
      "problem 1\n",
      "              precision    recall  f1-score   support\n",
      "\n",
      "        -1.0       0.86      0.80      0.83       493\n",
      "         1.0       0.92      0.95      0.94      1309\n",
      "\n",
      "    accuracy                           0.91      1802\n",
      "   macro avg       0.89      0.87      0.88      1802\n",
      "weighted avg       0.91      0.91      0.91      1802\n",
      "\n",
      "problem 1\n",
      "              precision    recall  f1-score   support\n",
      "\n",
      "        -1.0       0.94      0.86      0.90       493\n",
      "         1.0       0.95      0.98      0.96      1309\n",
      "\n",
      "    accuracy                           0.95      1802\n",
      "   macro avg       0.94      0.92      0.93      1802\n",
      "weighted avg       0.95      0.95      0.94      1802\n",
      "\n",
      "problem 2\n",
      "              precision    recall  f1-score   support\n",
      "\n",
      "        -1.0       0.94      0.64      0.76       357\n",
      "         1.0       0.92      0.99      0.95      1445\n",
      "\n",
      "    accuracy                           0.92      1802\n",
      "   macro avg       0.93      0.81      0.86      1802\n",
      "weighted avg       0.92      0.92      0.91      1802\n",
      "\n",
      "problem 2\n",
      "              precision    recall  f1-score   support\n",
      "\n",
      "        -1.0       0.98      0.83      0.90       357\n",
      "         1.0       0.96      1.00      0.98      1445\n",
      "\n",
      "    accuracy                           0.96      1802\n",
      "   macro avg       0.97      0.91      0.94      1802\n",
      "weighted avg       0.96      0.96      0.96      1802\n",
      "\n",
      "problem 2\n",
      "              precision    recall  f1-score   support\n",
      "\n",
      "        -1.0       0.95      0.70      0.81       357\n",
      "         1.0       0.93      0.99      0.96      1445\n",
      "\n",
      "    accuracy                           0.93      1802\n",
      "   macro avg       0.94      0.85      0.88      1802\n",
      "weighted avg       0.93      0.93      0.93      1802\n",
      "\n",
      "problem 3\n",
      "              precision    recall  f1-score   support\n",
      "\n",
      "        -1.0       0.90      0.94      0.92       952\n",
      "         1.0       0.93      0.88      0.91       850\n",
      "\n",
      "    accuracy                           0.92      1802\n",
      "   macro avg       0.92      0.91      0.92      1802\n",
      "weighted avg       0.92      0.92      0.92      1802\n",
      "\n",
      "problem 3\n",
      "              precision    recall  f1-score   support\n",
      "\n",
      "        -1.0       0.89      0.95      0.92       952\n",
      "         1.0       0.94      0.86      0.90       850\n",
      "\n",
      "    accuracy                           0.91      1802\n",
      "   macro avg       0.91      0.91      0.91      1802\n",
      "weighted avg       0.91      0.91      0.91      1802\n",
      "\n",
      "problem 3\n",
      "              precision    recall  f1-score   support\n",
      "\n",
      "        -1.0       0.90      0.93      0.91       952\n",
      "         1.0       0.92      0.88      0.90       850\n",
      "\n",
      "    accuracy                           0.91      1802\n",
      "   macro avg       0.91      0.91      0.91      1802\n",
      "weighted avg       0.91      0.91      0.91      1802\n",
      "\n"
     ]
    }
   ],
   "source": [
    "from sklearn.model_selection import KFold\n",
    "#!pip install xgboost\n",
    "from sklearn.metrics import classification_report\n",
    "import xgboost as xgb\n",
    "\n",
    "kf = KFold(n_splits=3)\n",
    "for problemNumber in range(len(problems)):\n",
    "    problem=problems[problemNumber]\n",
    "    X=problem.featuresTrain.values\n",
    "    y=problem.targetsTrain.values\n",
    "    manifoldMixup = ManifoldMixupBinary(features=X, targets=y, mixup_alpha=2)\n",
    "    xMixup=[]\n",
    "    yMixup=[]\n",
    "    for m in range(200):\n",
    "        x_mixup, y_mixup=manifoldMixup.syntesize()\n",
    "        xMixup.append(x_mixup)\n",
    "        yMixup.append(y_mixup)\n",
    "    xMixup=np.concatenate(xMixup, axis=0)\n",
    "    X=np.concatenate([xMixup,X], axis=0)\n",
    "    yMixup=np.concatenate(yMixup, axis=0)\n",
    "    y=np.concatenate([yMixup,y], axis=0)\n",
    "    for train_index, test_index in kf.split(X, y):\n",
    "        ytrain=y[train_index]\n",
    "        ytest_target=y[test_index]\n",
    "        xgb_model = xgb.XGBRFRegressor(random_state=42).fit(X[train_index], y[train_index])\n",
    "        preds = xgb_model.predict(X[test_index])\n",
    "        preds[preds>0]=1    \n",
    "        preds[preds<0]=-1\n",
    "        ytest_target[ytest_target>0]=1    \n",
    "        ytest_target[ytest_target<0]=-1\n",
    "        problem.models.append(xgb_model)\n",
    "\n",
    "        \n",
    "        print(\"problem {}\".format(problem.problemNumber))\n",
    "        print(classification_report(ytest_target, preds))"
   ]
  },
  {
   "cell_type": "code",
   "execution_count": 156,
   "metadata": {},
   "outputs": [],
   "source": [
    "predsAllModelsTrain=[]\n",
    "for problemNumber in range(len(problems)):\n",
    "    problem=problems[problemNumber]\n",
    "    X=problem.featuresTrain.values\n",
    "    y=problem.targetsTrain.values\n",
    "    for xgb_model in problem.models:\n",
    "        predsAllModelsTrain.append(xgb_model.predict(X))\n",
    "\n",
    "predsAllModelsTest=[]\n",
    "for problemNumber in range(len(problems)):\n",
    "    problem=problems[problemNumber]\n",
    "    X=problem.featuresTest.values\n",
    "    y=problem.targetsTest.values\n",
    "    for xgb_model in problem.models:\n",
    "        predsAllModelsTest.append(xgb_model.predict(X))\n",
    "\n",
    "predsAllModelsTrain=np.array(predsAllModelsTrain).transpose()\n",
    "predsAllModelsTest=np.array(predsAllModelsTest).transpose()"
   ]
  },
  {
   "cell_type": "code",
   "execution_count": 166,
   "metadata": {},
   "outputs": [
    {
     "output_type": "stream",
     "name": "stdout",
     "text": [
      "              precision    recall  f1-score   support\n\n           1       0.86      0.46      0.60        13\n           2       0.29      0.56      0.38         9\n           3       0.73      0.67      0.70        24\n\n    accuracy                           0.59        46\n   macro avg       0.63      0.56      0.56        46\nweighted avg       0.68      0.59      0.61        46\n\n"
     ]
    }
   ],
   "source": [
    "xgb_model = xgb.XGBRFRegressor().fit(predsAllModelsTrain, y_train)\n",
    "preds = xgb_model.predict(predsAllModelsTest)\n",
    "preds=np.round(preds)\n",
    "print(classification_report(y_test, preds))"
   ]
  },
  {
   "cell_type": "code",
   "execution_count": 159,
   "metadata": {},
   "outputs": [
    {
     "output_type": "execute_result",
     "data": {
      "text/plain": [
       "array([3.0000024, 1.9899986, 1.9999986, 3.0000024, 1.4199991, 3.0000024,\n",
       "       1.9999986, 3.0000024, 2.850002 , 1.9999986, 3.0000024, 3.0000024,\n",
       "       0.9999995, 2.770002 , 1.1399994, 3.0000024, 2.850002 , 0.9999995,\n",
       "       3.0000024, 1.9999986, 0.9999995, 2.2099998, 1.9999986, 2.9900024,\n",
       "       1.9999986, 3.0000024, 1.9399986, 1.9799986, 0.9999995, 1.9999986,\n",
       "       2.7100017, 2.1799996, 3.0000024, 3.0000024, 2.8600023, 2.069999 ,\n",
       "       3.0000024, 0.9999995, 3.0000024, 0.9999995, 1.9999986, 2.9800024,\n",
       "       3.0000024, 1.9999986, 1.9999986, 3.0000024], dtype=float32)"
      ]
     },
     "metadata": {},
     "execution_count": 159
    }
   ],
   "source": [
    "preds"
   ]
  },
  {
   "cell_type": "code",
   "execution_count": 116,
   "metadata": {},
   "outputs": [
    {
     "output_type": "stream",
     "name": "stdout",
     "text": [
      "problem 1\n              precision    recall  f1-score   support\n\n          -1       0.76      1.00      0.87        13\n           1       1.00      0.88      0.94        33\n\n    accuracy                           0.91        46\n   macro avg       0.88      0.94      0.90        46\nweighted avg       0.93      0.91      0.92        46\n\nproblem 1\n              precision    recall  f1-score   support\n\n          -1       0.72      1.00      0.84        13\n           1       1.00      0.85      0.92        33\n\n    accuracy                           0.89        46\n   macro avg       0.86      0.92      0.88        46\nweighted avg       0.92      0.89      0.90        46\n\nproblem 1\n              precision    recall  f1-score   support\n\n          -1       0.86      0.92      0.89        13\n           1       0.97      0.94      0.95        33\n\n    accuracy                           0.93        46\n   macro avg       0.91      0.93      0.92        46\nweighted avg       0.94      0.93      0.94        46\n\nproblem 2\n              precision    recall  f1-score   support\n\n          -1       0.75      0.33      0.46         9\n           1       0.86      0.97      0.91        37\n\n    accuracy                           0.85        46\n   macro avg       0.80      0.65      0.69        46\nweighted avg       0.84      0.85      0.82        46\n\nproblem 2\n              precision    recall  f1-score   support\n\n          -1       0.67      0.22      0.33         9\n           1       0.84      0.97      0.90        37\n\n    accuracy                           0.83        46\n   macro avg       0.75      0.60      0.62        46\nweighted avg       0.80      0.83      0.79        46\n\nproblem 2\n              precision    recall  f1-score   support\n\n          -1       1.00      0.33      0.50         9\n           1       0.86      1.00      0.92        37\n\n    accuracy                           0.87        46\n   macro avg       0.93      0.67      0.71        46\nweighted avg       0.89      0.87      0.84        46\n\nproblem 3\n              precision    recall  f1-score   support\n\n          -1       0.90      0.75      0.82        24\n           1       0.77      0.91      0.83        22\n\n    accuracy                           0.83        46\n   macro avg       0.83      0.83      0.83        46\nweighted avg       0.84      0.83      0.83        46\n\nproblem 3\n              precision    recall  f1-score   support\n\n          -1       0.84      0.67      0.74        24\n           1       0.70      0.86      0.78        22\n\n    accuracy                           0.76        46\n   macro avg       0.77      0.77      0.76        46\nweighted avg       0.78      0.76      0.76        46\n\nproblem 3\n              precision    recall  f1-score   support\n\n          -1       0.86      0.79      0.83        24\n           1       0.79      0.86      0.83        22\n\n    accuracy                           0.83        46\n   macro avg       0.83      0.83      0.83        46\nweighted avg       0.83      0.83      0.83        46\n\n"
     ]
    }
   ],
   "source": [
    "for problemNumber in range(len(problems)):\n",
    "    problem=problems[problemNumber]\n",
    "    X=problem.featuresTest.values\n",
    "    y=problem.targetsTest.values\n",
    "    for xgb_model in problem.models:\n",
    "        preds = xgb_model.predict(X)\n",
    "        preds[preds>0]=1    \n",
    "        preds[preds<0]=-1\n",
    "        y[y>0]=1    \n",
    "        y[y<0]=-1\n",
    "        print(\"problem {}\".format(problem.problemNumber))\n",
    "        print(classification_report(y, preds))\n"
   ]
  },
  {
   "cell_type": "code",
   "execution_count": null,
   "metadata": {},
   "outputs": [],
   "source": []
  }
 ]
}