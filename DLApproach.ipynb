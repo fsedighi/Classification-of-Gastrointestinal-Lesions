{
 "cells": [
  {
   "cell_type": "code",
   "execution_count": 43,
   "metadata": {},
   "outputs": [],
   "source": [
    "import numpy as np\n",
    "import numpy.random as nprand\n",
    "import matplotlib.pyplot as plt\n",
    "import pandas as pd\n",
    "import math as math\n",
    "\n",
    "from sklearn.feature_selection import SelectKBest\n",
    "from sklearn.feature_selection import chi2, f_classif \n",
    "from sklearn.model_selection import cross_val_score"
   ]
  },
  {
   "cell_type": "markdown",
   "metadata": {},
   "source": [
    "Data Loading and preprocessing:"
   ]
  },
  {
   "cell_type": "code",
   "execution_count": 44,
   "metadata": {},
   "outputs": [],
   "source": [
    "# The original data = df\n",
    "df = pd.read_csv('data.csv',\n",
    "    header=None,\n",
    "    index_col=False).T"
   ]
  },
  {
   "source": [
    "Select labels, light and feature"
   ],
   "cell_type": "markdown",
   "metadata": {}
  },
  {
   "cell_type": "code",
   "execution_count": 45,
   "metadata": {},
   "outputs": [],
   "source": [
    "lesions=df.iloc[:,1].apply(pd.to_numeric)\n",
    "light=df.iloc[:,2].apply(pd.to_numeric)\n",
    "features=df.iloc[:,3:-1].apply(pd.to_numeric)\n"
   ]
  },
  {
   "cell_type": "code",
   "execution_count": 51,
   "metadata": {},
   "outputs": [],
   "source": [
    "from sklearn.preprocessing import OneHotEncoder\n",
    "onehot_encoder = OneHotEncoder(sparse=False)\n",
    "integer_encoded = lesions.values.reshape(len(lesions), 1)\n",
    "lesions_encoded = onehot_encoder.fit_transform(integer_encoded)"
   ]
  },
  {
   "cell_type": "code",
   "execution_count": 94,
   "metadata": {},
   "outputs": [],
   "source": [
    "# from sklearn.model_selection import train_test_split\n",
    "# X_train, X_test, y_train, y_test = train_test_split(features, lesions_encoded, test_size=0.5,stratify=lesions)\n"
   ]
  },
  {
   "cell_type": "code",
   "execution_count": 100,
   "metadata": {
    "tags": []
   },
   "outputs": [],
   "source": [
    "import keras.layers as layers\n",
    "from keras.models import Model\n",
    "import tensorflow as tf\n",
    "\n",
    "\n",
    "def getModel(inputSize):\n",
    "    inputs = layers.Input(shape=inputSize)\n",
    "    x=layers.Dense(256)(inputs)\n",
    "    x_expand=tf.expand_dims(x, axis=2)\n",
    "    cnn_o1 = layers.Conv1D(\n",
    "        filters=32,\n",
    "        kernel_size=16,\n",
    "        # Use 'same' padding so outputs have the same shape as inputs.\n",
    "        padding='same')(x_expand)\n",
    "\n",
    "    query_seq_encoding=layers.Dense(64)(inputs)\n",
    "    # query_seq_encoding=tf.expand_dims(query_seq_encoding, axis=2)\n",
    "    query_value_attention_seq = layers.Attention()(\n",
    "        [cnn_o1, cnn_o1])\n",
    "\n",
    "    query_value_attention = layers.GlobalAveragePooling1D()(\n",
    "        query_value_attention_seq)\n",
    "\n",
    "    concatenated = layers.Concatenate()(\n",
    "        [x, query_value_attention])\n",
    "    x=layers.Dense(32)(concatenated)\n",
    "    x=layers.Dense(16)(x)\n",
    "    output=layers.Dense(3,activation='softmax')(x)\n",
    "\n",
    "    model = Model(inputs=inputs, outputs=output)\n",
    "    model.compile(optimizer='nadam',loss='categorical_crossentropy',metrics=['accuracy'])\n",
    "    model.summary()\n",
    "    return model\n",
    "\n",
    "\n"
   ]
  },
  {
   "cell_type": "code",
   "execution_count": null,
   "metadata": {},
   "outputs": [],
   "source": [
    "model=getModel(X_train.shape[1])\n",
    "history=model.fit(X_train,y_train,epochs=500,batch_size=64,validation_split=0.2)"
   ]
  },
  {
   "cell_type": "code",
   "execution_count": 101,
   "metadata": {},
   "outputs": [
    {
     "output_type": "stream",
     "name": "stdout",
     "text": [
      "TRAIN: [  1   2   3   4   5   6   7   8   9  10  11  12  13  14  15  16  17  18\n",
      "  19  20  21  22  23  24  25  26  27  28  29  30  31  32  33  34  35  36\n",
      "  37  38  39  40  41  42  43  44  45  46  47  48  49  50  51  52  53  54\n",
      "  55  56  57  58  59  60  61  62  63  64  65  66  67  68  69  70  71  72\n",
      "  73  74  75  76  77  78  79  80  81  82  83  84  85  86  87  88  89  90\n",
      "  91  92  93  94  95  96  97  98  99 100 101 102 103 104 105 106 107 108\n",
      " 109 110 111 112 113 114 115 116 117 118 119 120 121 122 123 124 125 126\n",
      " 127 128 129 130 131 132 133 134 135 136 137 138 139 140 141 142 143 144\n",
      " 145 146 147 148 149 150 151] TEST: [0]\n",
      "Model: \"model_33\"\n",
      "__________________________________________________________________________________________________\n",
      "Layer (type)                    Output Shape         Param #     Connected to                     \n",
      "==================================================================================================\n",
      "input_44 (InputLayer)           [(None, 697)]        0                                            \n",
      "__________________________________________________________________________________________________\n",
      "dense_184 (Dense)               (None, 256)          178688      input_44[0][0]                   \n",
      "__________________________________________________________________________________________________\n",
      "tf.expand_dims_51 (TFOpLambda)  (None, 256, 1)       0           dense_184[0][0]                  \n",
      "__________________________________________________________________________________________________\n",
      "conv1d_43 (Conv1D)              (None, 256, 32)      544         tf.expand_dims_51[0][0]          \n",
      "__________________________________________________________________________________________________\n",
      "attention_41 (Attention)        (None, 256, 32)      0           conv1d_43[0][0]                  \n",
      "                                                                 conv1d_43[0][0]                  \n",
      "__________________________________________________________________________________________________\n",
      "global_average_pooling1d_43 (Gl (None, 32)           0           attention_41[0][0]               \n",
      "__________________________________________________________________________________________________\n",
      "concatenate_37 (Concatenate)    (None, 288)          0           dense_184[0][0]                  \n",
      "                                                                 global_average_pooling1d_43[0][0]\n",
      "__________________________________________________________________________________________________\n",
      "dense_186 (Dense)               (None, 32)           9248        concatenate_37[0][0]             \n",
      "__________________________________________________________________________________________________\n",
      "dense_187 (Dense)               (None, 16)           528         dense_186[0][0]                  \n",
      "__________________________________________________________________________________________________\n",
      "dense_188 (Dense)               (None, 3)            51          dense_187[0][0]                  \n",
      "==================================================================================================\n",
      "Total params: 189,059\n",
      "Trainable params: 189,059\n",
      "Non-trainable params: 0\n",
      "__________________________________________________________________________________________________\n",
      "Epoch 1/500\n",
      "2/2 [==============================] - 2s 212ms/step - loss: 796.4144 - accuracy: 0.4590 - val_loss: 2615.5559 - val_accuracy: 0.0000e+00\n",
      "Epoch 2/500\n",
      "2/2 [==============================] - 0s 96ms/step - loss: 360.3111 - accuracy: 0.5208 - val_loss: 3272.1819 - val_accuracy: 0.0000e+00\n",
      "Epoch 3/500\n",
      "2/2 [==============================] - 0s 92ms/step - loss: 343.5865 - accuracy: 0.6569 - val_loss: 3415.9832 - val_accuracy: 0.0323\n",
      "Epoch 4/500\n",
      "2/2 [==============================] - 0s 85ms/step - loss: 76.5530 - accuracy: 0.6635 - val_loss: 3741.7400 - val_accuracy: 0.0323\n",
      "Epoch 5/500\n",
      "2/2 [==============================] - 0s 76ms/step - loss: 124.3440 - accuracy: 0.6014 - val_loss: 4853.6538 - val_accuracy: 0.0000e+00\n",
      "Epoch 6/500\n",
      "2/2 [==============================] - 0s 86ms/step - loss: 447.8068 - accuracy: 0.6785 - val_loss: 4487.8540 - val_accuracy: 0.0000e+00\n",
      "Epoch 7/500\n",
      "2/2 [==============================] - 0s 85ms/step - loss: 140.4351 - accuracy: 0.7118 - val_loss: 4404.1196 - val_accuracy: 0.0323\n",
      "Epoch 8/500\n",
      "2/2 [==============================] - 0s 83ms/step - loss: 38.8029 - accuracy: 0.7601 - val_loss: 4790.6914 - val_accuracy: 0.0000e+00\n",
      "Epoch 9/500\n",
      "2/2 [==============================] - 0s 80ms/step - loss: 195.9331 - accuracy: 0.6917 - val_loss: 4603.4536 - val_accuracy: 0.0000e+00\n",
      "Epoch 10/500\n",
      "2/2 [==============================] - 0s 84ms/step - loss: 29.2182 - accuracy: 0.7771 - val_loss: 4887.4316 - val_accuracy: 0.0000e+00\n",
      "Epoch 11/500\n",
      "2/2 [==============================] - 0s 81ms/step - loss: 128.9313 - accuracy: 0.6962 - val_loss: 4687.2925 - val_accuracy: 0.0323\n",
      "Epoch 12/500\n",
      "2/2 [==============================] - 0s 86ms/step - loss: 62.8771 - accuracy: 0.7017 - val_loss: 4802.3555 - val_accuracy: 0.0000e+00\n",
      "Epoch 13/500\n",
      "2/2 [==============================] - 0s 89ms/step - loss: 25.2479 - accuracy: 0.8372 - val_loss: 4787.6958 - val_accuracy: 0.0323\n",
      "Epoch 14/500\n",
      "2/2 [==============================] - 0s 90ms/step - loss: 13.5083 - accuracy: 0.8253 - val_loss: 4904.8247 - val_accuracy: 0.0323\n",
      "Epoch 15/500\n",
      "2/2 [==============================] - 0s 80ms/step - loss: 44.6745 - accuracy: 0.7885 - val_loss: 4997.2524 - val_accuracy: 0.0000e+00\n",
      "Epoch 16/500\n",
      "2/2 [==============================] - 0s 86ms/step - loss: 30.3100 - accuracy: 0.8368 - val_loss: 4970.3779 - val_accuracy: 0.0000e+00\n",
      "Epoch 17/500\n",
      "2/2 [==============================] - 0s 80ms/step - loss: 34.2981 - accuracy: 0.7059 - val_loss: 5465.7412 - val_accuracy: 0.0000e+00\n",
      "Epoch 18/500\n",
      "2/2 [==============================] - 0s 84ms/step - loss: 132.0907 - accuracy: 0.7066 - val_loss: 5089.0518 - val_accuracy: 0.0323\n",
      "Epoch 19/500\n",
      "2/2 [==============================] - 0s 86ms/step - loss: 25.2682 - accuracy: 0.7938 - val_loss: 5053.3296 - val_accuracy: 0.0323\n",
      "Epoch 20/500\n",
      "2/2 [==============================] - 0s 84ms/step - loss: 96.3589 - accuracy: 0.7170 - val_loss: 5076.3013 - val_accuracy: 0.0323\n",
      "Epoch 21/500\n",
      "2/2 [==============================] - 0s 83ms/step - loss: 28.2577 - accuracy: 0.7767 - val_loss: 5234.7080 - val_accuracy: 0.0000e+00\n",
      "Epoch 22/500\n",
      "2/2 [==============================] - 0s 84ms/step - loss: 53.3061 - accuracy: 0.7615 - val_loss: 5015.3779 - val_accuracy: 0.0323\n",
      "Epoch 23/500\n",
      "2/2 [==============================] - 0s 85ms/step - loss: 17.6657 - accuracy: 0.8372 - val_loss: 4926.8853 - val_accuracy: 0.0323\n",
      "Epoch 24/500\n",
      "2/2 [==============================] - 0s 83ms/step - loss: 14.8559 - accuracy: 0.8153 - val_loss: 4911.7715 - val_accuracy: 0.0323\n",
      "Epoch 25/500\n",
      "2/2 [==============================] - 0s 80ms/step - loss: 33.3611 - accuracy: 0.8253 - val_loss: 4870.5713 - val_accuracy: 0.0323\n",
      "Epoch 26/500\n",
      "2/2 [==============================] - 0s 91ms/step - loss: 35.1012 - accuracy: 0.7611 - val_loss: 4888.3198 - val_accuracy: 0.0323\n",
      "Epoch 27/500\n",
      "2/2 [==============================] - 0s 85ms/step - loss: 12.0744 - accuracy: 0.8799 - val_loss: 4845.0757 - val_accuracy: 0.0323\n",
      "Epoch 28/500\n",
      "2/2 [==============================] - 0s 78ms/step - loss: 30.4495 - accuracy: 0.7712 - val_loss: 4872.6816 - val_accuracy: 0.0323\n",
      "Epoch 29/500\n",
      "2/2 [==============================] - 0s 116ms/step - loss: 203.8475 - accuracy: 0.5337 - val_loss: 5445.8711 - val_accuracy: 0.0000e+00\n",
      "Epoch 30/500\n",
      "2/2 [==============================] - 0s 101ms/step - loss: 275.4551 - accuracy: 0.6858 - val_loss: 4711.1411 - val_accuracy: 0.0000e+00\n",
      "Epoch 31/500\n",
      "2/2 [==============================] - 0s 86ms/step - loss: 24.1063 - accuracy: 0.8264 - val_loss: 4595.8428 - val_accuracy: 0.0323\n",
      "Epoch 32/500\n",
      "2/2 [==============================] - 0s 85ms/step - loss: 19.6869 - accuracy: 0.8469 - val_loss: 4714.1504 - val_accuracy: 0.0000e+00\n",
      "Epoch 33/500\n",
      "2/2 [==============================] - 0s 88ms/step - loss: 39.8554 - accuracy: 0.8424 - val_loss: 4701.9336 - val_accuracy: 0.0000e+00\n",
      "Epoch 34/500\n",
      "2/2 [==============================] - 0s 85ms/step - loss: 65.6991 - accuracy: 0.7615 - val_loss: 4676.2285 - val_accuracy: 0.0000e+00\n",
      "Epoch 35/500\n",
      "2/2 [==============================] - 0s 83ms/step - loss: 71.8499 - accuracy: 0.7990 - val_loss: 4301.3857 - val_accuracy: 0.0323\n",
      "Epoch 36/500\n",
      "2/2 [==============================] - 0s 89ms/step - loss: 48.5235 - accuracy: 0.8153 - val_loss: 4268.5498 - val_accuracy: 0.0323\n",
      "Epoch 37/500\n",
      "2/2 [==============================] - 0s 85ms/step - loss: 45.3876 - accuracy: 0.8038 - val_loss: 4298.8105 - val_accuracy: 0.0323\n",
      "Epoch 38/500\n",
      "2/2 [==============================] - 0s 84ms/step - loss: 13.3366 - accuracy: 0.8694 - val_loss: 4242.8291 - val_accuracy: 0.0323\n",
      "Epoch 39/500\n",
      "2/2 [==============================] - 0s 84ms/step - loss: 13.2578 - accuracy: 0.8639 - val_loss: 4247.0293 - val_accuracy: 0.0323\n",
      "Epoch 40/500\n",
      "2/2 [==============================] - 0s 82ms/step - loss: 15.8312 - accuracy: 0.8486 - val_loss: 4229.2837 - val_accuracy: 0.0323\n",
      "Epoch 41/500\n"
     ]
    },
    {
     "output_type": "error",
     "ename": "KeyboardInterrupt",
     "evalue": "",
     "traceback": [
      "\u001b[1;31m---------------------------------------------------------------------------\u001b[0m",
      "\u001b[1;31mKeyboardInterrupt\u001b[0m                         Traceback (most recent call last)",
      "\u001b[1;32m<ipython-input-101-b623458bfb3d>\u001b[0m in \u001b[0;36m<module>\u001b[1;34m\u001b[0m\n\u001b[0;32m     15\u001b[0m     \u001b[0my_train\u001b[0m\u001b[1;33m,\u001b[0m \u001b[0my_test\u001b[0m \u001b[1;33m=\u001b[0m \u001b[0mlesions_encoded\u001b[0m\u001b[1;33m[\u001b[0m\u001b[0mtrain_index\u001b[0m\u001b[1;33m,\u001b[0m\u001b[1;33m:\u001b[0m\u001b[1;33m]\u001b[0m\u001b[1;33m,\u001b[0m \u001b[0mlesions_encoded\u001b[0m\u001b[1;33m[\u001b[0m\u001b[0mtest_index\u001b[0m\u001b[1;33m,\u001b[0m\u001b[1;33m:\u001b[0m\u001b[1;33m]\u001b[0m\u001b[1;33m\u001b[0m\u001b[1;33m\u001b[0m\u001b[0m\n\u001b[0;32m     16\u001b[0m     \u001b[0mmodel\u001b[0m\u001b[1;33m=\u001b[0m\u001b[0mgetModel\u001b[0m\u001b[1;33m(\u001b[0m\u001b[0mX_train\u001b[0m\u001b[1;33m.\u001b[0m\u001b[0mshape\u001b[0m\u001b[1;33m[\u001b[0m\u001b[1;36m1\u001b[0m\u001b[1;33m]\u001b[0m\u001b[1;33m)\u001b[0m\u001b[1;33m\u001b[0m\u001b[1;33m\u001b[0m\u001b[0m\n\u001b[1;32m---> 17\u001b[1;33m     \u001b[0mhistory\u001b[0m\u001b[1;33m=\u001b[0m\u001b[0mmodel\u001b[0m\u001b[1;33m.\u001b[0m\u001b[0mfit\u001b[0m\u001b[1;33m(\u001b[0m\u001b[0mX_train\u001b[0m\u001b[1;33m,\u001b[0m\u001b[0my_train\u001b[0m\u001b[1;33m,\u001b[0m\u001b[0mepochs\u001b[0m\u001b[1;33m=\u001b[0m\u001b[1;36m500\u001b[0m\u001b[1;33m,\u001b[0m\u001b[0mbatch_size\u001b[0m\u001b[1;33m=\u001b[0m\u001b[1;36m64\u001b[0m\u001b[1;33m,\u001b[0m\u001b[0mvalidation_split\u001b[0m\u001b[1;33m=\u001b[0m\u001b[1;36m0.2\u001b[0m\u001b[1;33m)\u001b[0m\u001b[1;33m\u001b[0m\u001b[1;33m\u001b[0m\u001b[0m\n\u001b[0m\u001b[0;32m     18\u001b[0m     \u001b[0myhat\u001b[0m \u001b[1;33m=\u001b[0m \u001b[0mmodel\u001b[0m\u001b[1;33m.\u001b[0m\u001b[0mpredict\u001b[0m\u001b[1;33m(\u001b[0m\u001b[0mX_test\u001b[0m\u001b[1;33m)\u001b[0m\u001b[1;33m\u001b[0m\u001b[1;33m\u001b[0m\u001b[0m\n\u001b[0;32m     19\u001b[0m     \u001b[0my_true\u001b[0m\u001b[1;33m.\u001b[0m\u001b[0mappend\u001b[0m\u001b[1;33m(\u001b[0m\u001b[0my_test\u001b[0m\u001b[1;33m[\u001b[0m\u001b[1;36m0\u001b[0m\u001b[1;33m]\u001b[0m\u001b[1;33m)\u001b[0m\u001b[1;33m\u001b[0m\u001b[1;33m\u001b[0m\u001b[0m\n",
      "\u001b[1;32m~\\anaconda3\\lib\\site-packages\\tensorflow\\python\\keras\\engine\\training.py\u001b[0m in \u001b[0;36mfit\u001b[1;34m(self, x, y, batch_size, epochs, verbose, callbacks, validation_split, validation_data, shuffle, class_weight, sample_weight, initial_epoch, steps_per_epoch, validation_steps, validation_batch_size, validation_freq, max_queue_size, workers, use_multiprocessing)\u001b[0m\n\u001b[0;32m   1098\u001b[0m                 _r=1):\n\u001b[0;32m   1099\u001b[0m               \u001b[0mcallbacks\u001b[0m\u001b[1;33m.\u001b[0m\u001b[0mon_train_batch_begin\u001b[0m\u001b[1;33m(\u001b[0m\u001b[0mstep\u001b[0m\u001b[1;33m)\u001b[0m\u001b[1;33m\u001b[0m\u001b[1;33m\u001b[0m\u001b[0m\n\u001b[1;32m-> 1100\u001b[1;33m               \u001b[0mtmp_logs\u001b[0m \u001b[1;33m=\u001b[0m \u001b[0mself\u001b[0m\u001b[1;33m.\u001b[0m\u001b[0mtrain_function\u001b[0m\u001b[1;33m(\u001b[0m\u001b[0miterator\u001b[0m\u001b[1;33m)\u001b[0m\u001b[1;33m\u001b[0m\u001b[1;33m\u001b[0m\u001b[0m\n\u001b[0m\u001b[0;32m   1101\u001b[0m               \u001b[1;32mif\u001b[0m \u001b[0mdata_handler\u001b[0m\u001b[1;33m.\u001b[0m\u001b[0mshould_sync\u001b[0m\u001b[1;33m:\u001b[0m\u001b[1;33m\u001b[0m\u001b[1;33m\u001b[0m\u001b[0m\n\u001b[0;32m   1102\u001b[0m                 \u001b[0mcontext\u001b[0m\u001b[1;33m.\u001b[0m\u001b[0masync_wait\u001b[0m\u001b[1;33m(\u001b[0m\u001b[1;33m)\u001b[0m\u001b[1;33m\u001b[0m\u001b[1;33m\u001b[0m\u001b[0m\n",
      "\u001b[1;32m~\\anaconda3\\lib\\site-packages\\tensorflow\\python\\eager\\def_function.py\u001b[0m in \u001b[0;36m__call__\u001b[1;34m(self, *args, **kwds)\u001b[0m\n\u001b[0;32m    826\u001b[0m     \u001b[0mtracing_count\u001b[0m \u001b[1;33m=\u001b[0m \u001b[0mself\u001b[0m\u001b[1;33m.\u001b[0m\u001b[0mexperimental_get_tracing_count\u001b[0m\u001b[1;33m(\u001b[0m\u001b[1;33m)\u001b[0m\u001b[1;33m\u001b[0m\u001b[1;33m\u001b[0m\u001b[0m\n\u001b[0;32m    827\u001b[0m     \u001b[1;32mwith\u001b[0m \u001b[0mtrace\u001b[0m\u001b[1;33m.\u001b[0m\u001b[0mTrace\u001b[0m\u001b[1;33m(\u001b[0m\u001b[0mself\u001b[0m\u001b[1;33m.\u001b[0m\u001b[0m_name\u001b[0m\u001b[1;33m)\u001b[0m \u001b[1;32mas\u001b[0m \u001b[0mtm\u001b[0m\u001b[1;33m:\u001b[0m\u001b[1;33m\u001b[0m\u001b[1;33m\u001b[0m\u001b[0m\n\u001b[1;32m--> 828\u001b[1;33m       \u001b[0mresult\u001b[0m \u001b[1;33m=\u001b[0m \u001b[0mself\u001b[0m\u001b[1;33m.\u001b[0m\u001b[0m_call\u001b[0m\u001b[1;33m(\u001b[0m\u001b[1;33m*\u001b[0m\u001b[0margs\u001b[0m\u001b[1;33m,\u001b[0m \u001b[1;33m**\u001b[0m\u001b[0mkwds\u001b[0m\u001b[1;33m)\u001b[0m\u001b[1;33m\u001b[0m\u001b[1;33m\u001b[0m\u001b[0m\n\u001b[0m\u001b[0;32m    829\u001b[0m       \u001b[0mcompiler\u001b[0m \u001b[1;33m=\u001b[0m \u001b[1;34m\"xla\"\u001b[0m \u001b[1;32mif\u001b[0m \u001b[0mself\u001b[0m\u001b[1;33m.\u001b[0m\u001b[0m_experimental_compile\u001b[0m \u001b[1;32melse\u001b[0m \u001b[1;34m\"nonXla\"\u001b[0m\u001b[1;33m\u001b[0m\u001b[1;33m\u001b[0m\u001b[0m\n\u001b[0;32m    830\u001b[0m       \u001b[0mnew_tracing_count\u001b[0m \u001b[1;33m=\u001b[0m \u001b[0mself\u001b[0m\u001b[1;33m.\u001b[0m\u001b[0mexperimental_get_tracing_count\u001b[0m\u001b[1;33m(\u001b[0m\u001b[1;33m)\u001b[0m\u001b[1;33m\u001b[0m\u001b[1;33m\u001b[0m\u001b[0m\n",
      "\u001b[1;32m~\\anaconda3\\lib\\site-packages\\tensorflow\\python\\eager\\def_function.py\u001b[0m in \u001b[0;36m_call\u001b[1;34m(self, *args, **kwds)\u001b[0m\n\u001b[0;32m    853\u001b[0m       \u001b[1;31m# In this case we have created variables on the first call, so we run the\u001b[0m\u001b[1;33m\u001b[0m\u001b[1;33m\u001b[0m\u001b[1;33m\u001b[0m\u001b[0m\n\u001b[0;32m    854\u001b[0m       \u001b[1;31m# defunned version which is guaranteed to never create variables.\u001b[0m\u001b[1;33m\u001b[0m\u001b[1;33m\u001b[0m\u001b[1;33m\u001b[0m\u001b[0m\n\u001b[1;32m--> 855\u001b[1;33m       \u001b[1;32mreturn\u001b[0m \u001b[0mself\u001b[0m\u001b[1;33m.\u001b[0m\u001b[0m_stateless_fn\u001b[0m\u001b[1;33m(\u001b[0m\u001b[1;33m*\u001b[0m\u001b[0margs\u001b[0m\u001b[1;33m,\u001b[0m \u001b[1;33m**\u001b[0m\u001b[0mkwds\u001b[0m\u001b[1;33m)\u001b[0m  \u001b[1;31m# pylint: disable=not-callable\u001b[0m\u001b[1;33m\u001b[0m\u001b[1;33m\u001b[0m\u001b[0m\n\u001b[0m\u001b[0;32m    856\u001b[0m     \u001b[1;32melif\u001b[0m \u001b[0mself\u001b[0m\u001b[1;33m.\u001b[0m\u001b[0m_stateful_fn\u001b[0m \u001b[1;32mis\u001b[0m \u001b[1;32mnot\u001b[0m \u001b[1;32mNone\u001b[0m\u001b[1;33m:\u001b[0m\u001b[1;33m\u001b[0m\u001b[1;33m\u001b[0m\u001b[0m\n\u001b[0;32m    857\u001b[0m       \u001b[1;31m# Release the lock early so that multiple threads can perform the call\u001b[0m\u001b[1;33m\u001b[0m\u001b[1;33m\u001b[0m\u001b[1;33m\u001b[0m\u001b[0m\n",
      "\u001b[1;32m~\\anaconda3\\lib\\site-packages\\tensorflow\\python\\eager\\function.py\u001b[0m in \u001b[0;36m__call__\u001b[1;34m(self, *args, **kwargs)\u001b[0m\n\u001b[0;32m   2940\u001b[0m       (graph_function,\n\u001b[0;32m   2941\u001b[0m        filtered_flat_args) = self._maybe_define_function(args, kwargs)\n\u001b[1;32m-> 2942\u001b[1;33m     return graph_function._call_flat(\n\u001b[0m\u001b[0;32m   2943\u001b[0m         filtered_flat_args, captured_inputs=graph_function.captured_inputs)  # pylint: disable=protected-access\n\u001b[0;32m   2944\u001b[0m \u001b[1;33m\u001b[0m\u001b[0m\n",
      "\u001b[1;32m~\\anaconda3\\lib\\site-packages\\tensorflow\\python\\eager\\function.py\u001b[0m in \u001b[0;36m_call_flat\u001b[1;34m(self, args, captured_inputs, cancellation_manager)\u001b[0m\n\u001b[0;32m   1916\u001b[0m         and executing_eagerly):\n\u001b[0;32m   1917\u001b[0m       \u001b[1;31m# No tape is watching; skip to running the function.\u001b[0m\u001b[1;33m\u001b[0m\u001b[1;33m\u001b[0m\u001b[1;33m\u001b[0m\u001b[0m\n\u001b[1;32m-> 1918\u001b[1;33m       return self._build_call_outputs(self._inference_function.call(\n\u001b[0m\u001b[0;32m   1919\u001b[0m           ctx, args, cancellation_manager=cancellation_manager))\n\u001b[0;32m   1920\u001b[0m     forward_backward = self._select_forward_and_backward_functions(\n",
      "\u001b[1;32m~\\anaconda3\\lib\\site-packages\\tensorflow\\python\\eager\\function.py\u001b[0m in \u001b[0;36mcall\u001b[1;34m(self, ctx, args, cancellation_manager)\u001b[0m\n\u001b[0;32m    553\u001b[0m       \u001b[1;32mwith\u001b[0m \u001b[0m_InterpolateFunctionError\u001b[0m\u001b[1;33m(\u001b[0m\u001b[0mself\u001b[0m\u001b[1;33m)\u001b[0m\u001b[1;33m:\u001b[0m\u001b[1;33m\u001b[0m\u001b[1;33m\u001b[0m\u001b[0m\n\u001b[0;32m    554\u001b[0m         \u001b[1;32mif\u001b[0m \u001b[0mcancellation_manager\u001b[0m \u001b[1;32mis\u001b[0m \u001b[1;32mNone\u001b[0m\u001b[1;33m:\u001b[0m\u001b[1;33m\u001b[0m\u001b[1;33m\u001b[0m\u001b[0m\n\u001b[1;32m--> 555\u001b[1;33m           outputs = execute.execute(\n\u001b[0m\u001b[0;32m    556\u001b[0m               \u001b[0mstr\u001b[0m\u001b[1;33m(\u001b[0m\u001b[0mself\u001b[0m\u001b[1;33m.\u001b[0m\u001b[0msignature\u001b[0m\u001b[1;33m.\u001b[0m\u001b[0mname\u001b[0m\u001b[1;33m)\u001b[0m\u001b[1;33m,\u001b[0m\u001b[1;33m\u001b[0m\u001b[1;33m\u001b[0m\u001b[0m\n\u001b[0;32m    557\u001b[0m               \u001b[0mnum_outputs\u001b[0m\u001b[1;33m=\u001b[0m\u001b[0mself\u001b[0m\u001b[1;33m.\u001b[0m\u001b[0m_num_outputs\u001b[0m\u001b[1;33m,\u001b[0m\u001b[1;33m\u001b[0m\u001b[1;33m\u001b[0m\u001b[0m\n",
      "\u001b[1;32m~\\anaconda3\\lib\\site-packages\\tensorflow\\python\\eager\\execute.py\u001b[0m in \u001b[0;36mquick_execute\u001b[1;34m(op_name, num_outputs, inputs, attrs, ctx, name)\u001b[0m\n\u001b[0;32m     57\u001b[0m   \u001b[1;32mtry\u001b[0m\u001b[1;33m:\u001b[0m\u001b[1;33m\u001b[0m\u001b[1;33m\u001b[0m\u001b[0m\n\u001b[0;32m     58\u001b[0m     \u001b[0mctx\u001b[0m\u001b[1;33m.\u001b[0m\u001b[0mensure_initialized\u001b[0m\u001b[1;33m(\u001b[0m\u001b[1;33m)\u001b[0m\u001b[1;33m\u001b[0m\u001b[1;33m\u001b[0m\u001b[0m\n\u001b[1;32m---> 59\u001b[1;33m     tensors = pywrap_tfe.TFE_Py_Execute(ctx._handle, device_name, op_name,\n\u001b[0m\u001b[0;32m     60\u001b[0m                                         inputs, attrs, num_outputs)\n\u001b[0;32m     61\u001b[0m   \u001b[1;32mexcept\u001b[0m \u001b[0mcore\u001b[0m\u001b[1;33m.\u001b[0m\u001b[0m_NotOkStatusException\u001b[0m \u001b[1;32mas\u001b[0m \u001b[0me\u001b[0m\u001b[1;33m:\u001b[0m\u001b[1;33m\u001b[0m\u001b[1;33m\u001b[0m\u001b[0m\n",
      "\u001b[1;31mKeyboardInterrupt\u001b[0m: "
     ]
    }
   ],
   "source": [
    "from sklearn.model_selection import LeaveOneOut\n",
    "import keras.layers as layers\n",
    "from keras.models import Model\n",
    "import tensorflow as tf\n",
    "\n",
    "loo = LeaveOneOut()\n",
    "models=[]\n",
    "features=np.array(features)\n",
    "lesions_encoded=np.array(lesions_encoded)\n",
    "\n",
    "y_true, y_output = list(), list()\n",
    "for train_index, test_index in loo.split(features):\n",
    "    print(\"TRAIN:\", train_index, \"TEST:\", test_index)\n",
    "    X_train, X_test = features[train_index,:], features[test_index,:]\n",
    "    y_train, y_test = lesions_encoded[train_index,:], lesions_encoded[test_index,:]\n",
    "    model=getModel(X_train.shape[1])\n",
    "    history=model.fit(X_train,y_train,epochs=200,batch_size=32,validation_split=0.3)\n",
    "    yhat = model.predict(X_test)\n",
    "    y_true.append(y_test[0])\n",
    "    y_output.append(yhat[0])\n",
    "y_test=y_true"
   ]
  },
  {
   "cell_type": "code",
   "execution_count": 96,
   "metadata": {},
   "outputs": [
    {
     "output_type": "stream",
     "name": "stdout",
     "text": [
      "WARNING:tensorflow:6 out of the last 11 calls to <function Model.make_predict_function.<locals>.predict_function at 0x000001F21D79FC10> triggered tf.function retracing. Tracing is expensive and the excessive number of tracings could be due to (1) creating @tf.function repeatedly in a loop, (2) passing tensors with different shapes, (3) passing Python objects instead of tensors. For (1), please define your @tf.function outside of the loop. For (2), @tf.function has experimental_relax_shapes=True option that relaxes argument shapes that can avoid unnecessary retracing. For (3), please refer to https://www.tensorflow.org/guide/function#controlling_retracing and https://www.tensorflow.org/api_docs/python/tf/function for  more details.\n",
      "              precision    recall  f1-score   support\n",
      "\n",
      "           1       0.86      0.57      0.69        21\n",
      "           2       0.25      0.87      0.39        15\n",
      "           3       0.70      0.17      0.28        40\n",
      "\n",
      "    accuracy                           0.42        76\n",
      "   macro avg       0.60      0.54      0.45        76\n",
      "weighted avg       0.65      0.42      0.41        76\n",
      "\n"
     ]
    },
    {
     "output_type": "execute_result",
     "data": {
      "text/plain": [
       "0.42105263157894735"
      ]
     },
     "metadata": {},
     "execution_count": 96
    }
   ],
   "source": [
    "from sklearn.metrics import classification_report\n",
    "\n",
    "labelNames=['hyperplasic', 'serrated', 'adenoma']\n",
    "y_output=model.predict(X_test)\n",
    "y_output_transformed= onehot_encoder.inverse_transform(y_output)\n",
    "y_test_transformed= onehot_encoder.inverse_transform(y_test)\n",
    "print(classification_report(y_test_transformed, y_output_transformed, labels=[1,2,3]))\n",
    "\n"
   ]
  }
 ],
 "metadata": {
  "kernelspec": {
   "display_name": "Python 3",
   "language": "python",
   "name": "python3"
  },
  "language_info": {
   "codemirror_mode": {
    "name": "ipython",
    "version": 3
   },
   "file_extension": ".py",
   "mimetype": "text/x-python",
   "name": "python",
   "nbconvert_exporter": "python",
   "pygments_lexer": "ipython3",
   "version": "3.8.5-final"
  }
 },
 "nbformat": 4,
 "nbformat_minor": 4
}