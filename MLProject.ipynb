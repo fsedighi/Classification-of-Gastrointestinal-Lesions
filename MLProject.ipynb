{
 "cells": [
  {
   "cell_type": "code",
   "execution_count": 1,
   "metadata": {},
   "outputs": [],
   "source": [
    "import numpy as np\n",
    "import numpy.random as nprand\n",
    "import matplotlib.pyplot as plt\n",
    "import pandas as pd\n",
    "import math as math\n",
    "\n",
    "from sklearn.feature_selection import SelectKBest\n",
    "from sklearn.feature_selection import chi2, f_classif \n",
    "from sklearn.model_selection import cross_val_score"
   ]
  },
  {
   "cell_type": "markdown",
   "metadata": {},
   "source": [
    "Data Loading and preprocessing:"
   ]
  },
  {
   "cell_type": "code",
   "execution_count": 2,
   "metadata": {},
   "outputs": [],
   "source": [
    "# The original data = df\n",
    "df = pd.read_csv('data.csv',\n",
    "    header=None,\n",
    "    index_col=False)"
   ]
  },
  {
   "cell_type": "code",
   "execution_count": 3,
   "metadata": {},
   "outputs": [
    {
     "data": {
      "text/html": [
       "<div>\n",
       "<style scoped>\n",
       "    .dataframe tbody tr th:only-of-type {\n",
       "        vertical-align: middle;\n",
       "    }\n",
       "\n",
       "    .dataframe tbody tr th {\n",
       "        vertical-align: top;\n",
       "    }\n",
       "\n",
       "    .dataframe thead th {\n",
       "        text-align: right;\n",
       "    }\n",
       "</style>\n",
       "<table border=\"1\" class=\"dataframe\">\n",
       "  <thead>\n",
       "    <tr style=\"text-align: right;\">\n",
       "      <th></th>\n",
       "      <th>0</th>\n",
       "      <th>1</th>\n",
       "      <th>2</th>\n",
       "      <th>3</th>\n",
       "      <th>4</th>\n",
       "      <th>5</th>\n",
       "      <th>6</th>\n",
       "      <th>7</th>\n",
       "      <th>8</th>\n",
       "      <th>9</th>\n",
       "      <th>...</th>\n",
       "      <th>142</th>\n",
       "      <th>143</th>\n",
       "      <th>144</th>\n",
       "      <th>145</th>\n",
       "      <th>146</th>\n",
       "      <th>147</th>\n",
       "      <th>148</th>\n",
       "      <th>149</th>\n",
       "      <th>150</th>\n",
       "      <th>151</th>\n",
       "    </tr>\n",
       "  </thead>\n",
       "  <tbody>\n",
       "    <tr>\n",
       "      <th>0</th>\n",
       "      <td>adenoma_1</td>\n",
       "      <td>adenoma_1</td>\n",
       "      <td>adenoma_8</td>\n",
       "      <td>adenoma_8</td>\n",
       "      <td>adenoma_9</td>\n",
       "      <td>adenoma_9</td>\n",
       "      <td>adenoma_10</td>\n",
       "      <td>adenoma_10</td>\n",
       "      <td>adenoma_11</td>\n",
       "      <td>adenoma_11</td>\n",
       "      <td>...</td>\n",
       "      <td>serrated_5</td>\n",
       "      <td>serrated_5</td>\n",
       "      <td>serrated_6</td>\n",
       "      <td>serrated_6</td>\n",
       "      <td>serrated_7</td>\n",
       "      <td>serrated_7</td>\n",
       "      <td>serrated_8</td>\n",
       "      <td>serrated_8</td>\n",
       "      <td>serrated_9</td>\n",
       "      <td>serrated_9</td>\n",
       "    </tr>\n",
       "    <tr>\n",
       "      <th>1</th>\n",
       "      <td>3</td>\n",
       "      <td>3</td>\n",
       "      <td>3</td>\n",
       "      <td>3</td>\n",
       "      <td>3</td>\n",
       "      <td>3</td>\n",
       "      <td>3</td>\n",
       "      <td>3</td>\n",
       "      <td>3</td>\n",
       "      <td>3</td>\n",
       "      <td>...</td>\n",
       "      <td>2</td>\n",
       "      <td>2</td>\n",
       "      <td>2</td>\n",
       "      <td>2</td>\n",
       "      <td>2</td>\n",
       "      <td>2</td>\n",
       "      <td>2</td>\n",
       "      <td>2</td>\n",
       "      <td>2</td>\n",
       "      <td>2</td>\n",
       "    </tr>\n",
       "    <tr>\n",
       "      <th>2</th>\n",
       "      <td>1</td>\n",
       "      <td>2</td>\n",
       "      <td>2</td>\n",
       "      <td>1</td>\n",
       "      <td>2</td>\n",
       "      <td>1</td>\n",
       "      <td>1</td>\n",
       "      <td>2</td>\n",
       "      <td>2</td>\n",
       "      <td>1</td>\n",
       "      <td>...</td>\n",
       "      <td>1</td>\n",
       "      <td>2</td>\n",
       "      <td>1</td>\n",
       "      <td>2</td>\n",
       "      <td>1</td>\n",
       "      <td>2</td>\n",
       "      <td>2</td>\n",
       "      <td>1</td>\n",
       "      <td>1</td>\n",
       "      <td>2</td>\n",
       "    </tr>\n",
       "    <tr>\n",
       "      <th>3</th>\n",
       "      <td>138.12</td>\n",
       "      <td>127.99</td>\n",
       "      <td>80.415</td>\n",
       "      <td>90.896</td>\n",
       "      <td>106.16</td>\n",
       "      <td>147.09</td>\n",
       "      <td>148.73</td>\n",
       "      <td>126.05</td>\n",
       "      <td>109.13</td>\n",
       "      <td>129.7</td>\n",
       "      <td>...</td>\n",
       "      <td>114.59</td>\n",
       "      <td>86.424</td>\n",
       "      <td>163.68</td>\n",
       "      <td>71.638</td>\n",
       "      <td>180.11</td>\n",
       "      <td>136.55</td>\n",
       "      <td>96.852</td>\n",
       "      <td>157.81</td>\n",
       "      <td>93.569</td>\n",
       "      <td>95.543</td>\n",
       "    </tr>\n",
       "    <tr>\n",
       "      <th>4</th>\n",
       "      <td>1606.8</td>\n",
       "      <td>3377.9</td>\n",
       "      <td>1852.1</td>\n",
       "      <td>1904.3</td>\n",
       "      <td>1184.4</td>\n",
       "      <td>822.32</td>\n",
       "      <td>2412.5</td>\n",
       "      <td>4752.2</td>\n",
       "      <td>999.39</td>\n",
       "      <td>599.95</td>\n",
       "      <td>...</td>\n",
       "      <td>3014.5</td>\n",
       "      <td>3500.9</td>\n",
       "      <td>3253.1</td>\n",
       "      <td>1822.2</td>\n",
       "      <td>1198.5</td>\n",
       "      <td>1316.3</td>\n",
       "      <td>2071.3</td>\n",
       "      <td>2732.3</td>\n",
       "      <td>1163.6</td>\n",
       "      <td>2240.5</td>\n",
       "    </tr>\n",
       "  </tbody>\n",
       "</table>\n",
       "<p>5 rows × 152 columns</p>\n",
       "</div>"
      ],
      "text/plain": [
       "         0          1          2          3          4          5    \\\n",
       "0  adenoma_1  adenoma_1  adenoma_8  adenoma_8  adenoma_9  adenoma_9   \n",
       "1          3          3          3          3          3          3   \n",
       "2          1          2          2          1          2          1   \n",
       "3     138.12     127.99     80.415     90.896     106.16     147.09   \n",
       "4     1606.8     3377.9     1852.1     1904.3     1184.4     822.32   \n",
       "\n",
       "          6           7           8           9    ...         142  \\\n",
       "0  adenoma_10  adenoma_10  adenoma_11  adenoma_11  ...  serrated_5   \n",
       "1           3           3           3           3  ...           2   \n",
       "2           1           2           2           1  ...           1   \n",
       "3      148.73      126.05      109.13       129.7  ...      114.59   \n",
       "4      2412.5      4752.2      999.39      599.95  ...      3014.5   \n",
       "\n",
       "          143         144         145         146         147         148  \\\n",
       "0  serrated_5  serrated_6  serrated_6  serrated_7  serrated_7  serrated_8   \n",
       "1           2           2           2           2           2           2   \n",
       "2           2           1           2           1           2           2   \n",
       "3      86.424      163.68      71.638      180.11      136.55      96.852   \n",
       "4      3500.9      3253.1      1822.2      1198.5      1316.3      2071.3   \n",
       "\n",
       "          149         150         151  \n",
       "0  serrated_8  serrated_9  serrated_9  \n",
       "1           2           2           2  \n",
       "2           1           1           2  \n",
       "3      157.81      93.569      95.543  \n",
       "4      2732.3      1163.6      2240.5  \n",
       "\n",
       "[5 rows x 152 columns]"
      ]
     },
     "execution_count": 3,
     "metadata": {},
     "output_type": "execute_result"
    }
   ],
   "source": [
    "df.head(n=5)"
   ]
  },
  {
   "cell_type": "code",
   "execution_count": 5,
   "metadata": {},
   "outputs": [],
   "source": [
    "# removing the first row (name of the labels)\n",
    "modified_df = df.iloc[1:701, :]\n",
    "\n",
    "# change to numeric values\n",
    "data = pd.to_numeric(modified_df.iloc[0])\n",
    "for i in range(699):\n",
    "    temp = pd.to_numeric(modified_df.iloc[i+1])\n",
    "    l = [data, temp]\n",
    "    data = pd.concat(l, axis=1)"
   ]
  },
  {
   "cell_type": "code",
   "execution_count": 6,
   "metadata": {},
   "outputs": [],
   "source": [
    "# transpose the data to have columns as features\n",
    "data = data.T.reset_index(drop=True).T"
   ]
  },
  {
   "cell_type": "code",
   "execution_count": 7,
   "metadata": {},
   "outputs": [
    {
     "data": {
      "text/html": [
       "<div>\n",
       "<style scoped>\n",
       "    .dataframe tbody tr th:only-of-type {\n",
       "        vertical-align: middle;\n",
       "    }\n",
       "\n",
       "    .dataframe tbody tr th {\n",
       "        vertical-align: top;\n",
       "    }\n",
       "\n",
       "    .dataframe thead th {\n",
       "        text-align: right;\n",
       "    }\n",
       "</style>\n",
       "<table border=\"1\" class=\"dataframe\">\n",
       "  <thead>\n",
       "    <tr style=\"text-align: right;\">\n",
       "      <th></th>\n",
       "      <th>0</th>\n",
       "      <th>1</th>\n",
       "      <th>2</th>\n",
       "      <th>3</th>\n",
       "      <th>4</th>\n",
       "      <th>5</th>\n",
       "      <th>6</th>\n",
       "      <th>7</th>\n",
       "      <th>8</th>\n",
       "      <th>9</th>\n",
       "      <th>...</th>\n",
       "      <th>690</th>\n",
       "      <th>691</th>\n",
       "      <th>692</th>\n",
       "      <th>693</th>\n",
       "      <th>694</th>\n",
       "      <th>695</th>\n",
       "      <th>696</th>\n",
       "      <th>697</th>\n",
       "      <th>698</th>\n",
       "      <th>699</th>\n",
       "    </tr>\n",
       "  </thead>\n",
       "  <tbody>\n",
       "    <tr>\n",
       "      <th>0</th>\n",
       "      <td>3.0</td>\n",
       "      <td>1.0</td>\n",
       "      <td>138.120</td>\n",
       "      <td>1606.8</td>\n",
       "      <td>0.003875</td>\n",
       "      <td>0.005880</td>\n",
       "      <td>0.005213</td>\n",
       "      <td>0.006935</td>\n",
       "      <td>0.007333</td>\n",
       "      <td>0.009580</td>\n",
       "      <td>...</td>\n",
       "      <td>0.013994</td>\n",
       "      <td>0.013532</td>\n",
       "      <td>0.013157</td>\n",
       "      <td>0.012743</td>\n",
       "      <td>0.012613</td>\n",
       "      <td>0.012422</td>\n",
       "      <td>0.012252</td>\n",
       "      <td>0.011377</td>\n",
       "      <td>0.011198</td>\n",
       "      <td>0.011131</td>\n",
       "    </tr>\n",
       "    <tr>\n",
       "      <th>1</th>\n",
       "      <td>3.0</td>\n",
       "      <td>2.0</td>\n",
       "      <td>127.990</td>\n",
       "      <td>3377.9</td>\n",
       "      <td>0.003564</td>\n",
       "      <td>0.005645</td>\n",
       "      <td>0.005891</td>\n",
       "      <td>0.008219</td>\n",
       "      <td>0.007325</td>\n",
       "      <td>0.009883</td>\n",
       "      <td>...</td>\n",
       "      <td>0.013994</td>\n",
       "      <td>0.013532</td>\n",
       "      <td>0.013157</td>\n",
       "      <td>0.012743</td>\n",
       "      <td>0.012613</td>\n",
       "      <td>0.012422</td>\n",
       "      <td>0.012252</td>\n",
       "      <td>0.011377</td>\n",
       "      <td>0.011198</td>\n",
       "      <td>0.011131</td>\n",
       "    </tr>\n",
       "    <tr>\n",
       "      <th>2</th>\n",
       "      <td>3.0</td>\n",
       "      <td>2.0</td>\n",
       "      <td>80.415</td>\n",
       "      <td>1852.1</td>\n",
       "      <td>0.004761</td>\n",
       "      <td>0.007558</td>\n",
       "      <td>0.005294</td>\n",
       "      <td>0.006863</td>\n",
       "      <td>0.006088</td>\n",
       "      <td>0.007074</td>\n",
       "      <td>...</td>\n",
       "      <td>0.003564</td>\n",
       "      <td>0.003380</td>\n",
       "      <td>0.003232</td>\n",
       "      <td>0.003200</td>\n",
       "      <td>0.003006</td>\n",
       "      <td>0.002985</td>\n",
       "      <td>0.002922</td>\n",
       "      <td>0.002631</td>\n",
       "      <td>0.002610</td>\n",
       "      <td>0.002531</td>\n",
       "    </tr>\n",
       "    <tr>\n",
       "      <th>3</th>\n",
       "      <td>3.0</td>\n",
       "      <td>1.0</td>\n",
       "      <td>90.896</td>\n",
       "      <td>1904.3</td>\n",
       "      <td>0.004147</td>\n",
       "      <td>0.006728</td>\n",
       "      <td>0.005061</td>\n",
       "      <td>0.006879</td>\n",
       "      <td>0.007948</td>\n",
       "      <td>0.009525</td>\n",
       "      <td>...</td>\n",
       "      <td>0.003564</td>\n",
       "      <td>0.003380</td>\n",
       "      <td>0.003232</td>\n",
       "      <td>0.003200</td>\n",
       "      <td>0.003006</td>\n",
       "      <td>0.002985</td>\n",
       "      <td>0.002922</td>\n",
       "      <td>0.002631</td>\n",
       "      <td>0.002610</td>\n",
       "      <td>0.002531</td>\n",
       "    </tr>\n",
       "    <tr>\n",
       "      <th>4</th>\n",
       "      <td>3.0</td>\n",
       "      <td>2.0</td>\n",
       "      <td>106.160</td>\n",
       "      <td>1184.4</td>\n",
       "      <td>0.005518</td>\n",
       "      <td>0.007645</td>\n",
       "      <td>0.007918</td>\n",
       "      <td>0.009513</td>\n",
       "      <td>0.010927</td>\n",
       "      <td>0.012717</td>\n",
       "      <td>...</td>\n",
       "      <td>0.000000</td>\n",
       "      <td>0.000000</td>\n",
       "      <td>0.000000</td>\n",
       "      <td>0.000000</td>\n",
       "      <td>0.000000</td>\n",
       "      <td>0.000000</td>\n",
       "      <td>0.000000</td>\n",
       "      <td>0.000000</td>\n",
       "      <td>0.000000</td>\n",
       "      <td>0.000000</td>\n",
       "    </tr>\n",
       "  </tbody>\n",
       "</table>\n",
       "<p>5 rows × 700 columns</p>\n",
       "</div>"
      ],
      "text/plain": [
       "   0    1        2       3         4         5         6         7    \\\n",
       "0  3.0  1.0  138.120  1606.8  0.003875  0.005880  0.005213  0.006935   \n",
       "1  3.0  2.0  127.990  3377.9  0.003564  0.005645  0.005891  0.008219   \n",
       "2  3.0  2.0   80.415  1852.1  0.004761  0.007558  0.005294  0.006863   \n",
       "3  3.0  1.0   90.896  1904.3  0.004147  0.006728  0.005061  0.006879   \n",
       "4  3.0  2.0  106.160  1184.4  0.005518  0.007645  0.007918  0.009513   \n",
       "\n",
       "        8         9    ...       690       691       692       693       694  \\\n",
       "0  0.007333  0.009580  ...  0.013994  0.013532  0.013157  0.012743  0.012613   \n",
       "1  0.007325  0.009883  ...  0.013994  0.013532  0.013157  0.012743  0.012613   \n",
       "2  0.006088  0.007074  ...  0.003564  0.003380  0.003232  0.003200  0.003006   \n",
       "3  0.007948  0.009525  ...  0.003564  0.003380  0.003232  0.003200  0.003006   \n",
       "4  0.010927  0.012717  ...  0.000000  0.000000  0.000000  0.000000  0.000000   \n",
       "\n",
       "        695       696       697       698       699  \n",
       "0  0.012422  0.012252  0.011377  0.011198  0.011131  \n",
       "1  0.012422  0.012252  0.011377  0.011198  0.011131  \n",
       "2  0.002985  0.002922  0.002631  0.002610  0.002531  \n",
       "3  0.002985  0.002922  0.002631  0.002610  0.002531  \n",
       "4  0.000000  0.000000  0.000000  0.000000  0.000000  \n",
       "\n",
       "[5 rows x 700 columns]"
      ]
     },
     "execution_count": 7,
     "metadata": {},
     "output_type": "execute_result"
    }
   ],
   "source": [
    "data.head(5)"
   ]
  },
  {
   "cell_type": "code",
   "execution_count": 9,
   "metadata": {},
   "outputs": [],
   "source": [
    "# divide the nbi and wli images\n",
    "wli = data.loc[(data[1] == 1)]\n",
    "nbi = data.loc[(data[1] == 2)]\n",
    "\n",
    "#nbi/wli[0] : label\n",
    "#nbi/wli[1] : lighting type\n",
    "#the rest of the parameters are extracted features"
   ]
  },
  {
   "cell_type": "code",
   "execution_count": 16,
   "metadata": {},
   "outputs": [],
   "source": [
    "#remove constant(0) rows = modified_nbi/modified_wli\n",
    "modified_nbi = nbi.loc[:, (nbi != 0).any(axis=0)]\n",
    "modified_nbi = (((modified_nbi.reset_index(drop=True)).T).reset_index(drop=True)).T\n",
    "\n",
    "modified_wli = wli.loc[:, (wli != 0).any(axis=0)]\n",
    "modified_wli = (((modified_wli.reset_index(drop=True)).T).reset_index(drop=True)).T"
   ]
  },
  {
   "cell_type": "code",
   "execution_count": 17,
   "metadata": {},
   "outputs": [
    {
     "data": {
      "text/html": [
       "<div>\n",
       "<style scoped>\n",
       "    .dataframe tbody tr th:only-of-type {\n",
       "        vertical-align: middle;\n",
       "    }\n",
       "\n",
       "    .dataframe tbody tr th {\n",
       "        vertical-align: top;\n",
       "    }\n",
       "\n",
       "    .dataframe thead th {\n",
       "        text-align: right;\n",
       "    }\n",
       "</style>\n",
       "<table border=\"1\" class=\"dataframe\">\n",
       "  <thead>\n",
       "    <tr style=\"text-align: right;\">\n",
       "      <th></th>\n",
       "      <th>0</th>\n",
       "      <th>1</th>\n",
       "      <th>2</th>\n",
       "      <th>3</th>\n",
       "      <th>4</th>\n",
       "      <th>5</th>\n",
       "      <th>6</th>\n",
       "      <th>7</th>\n",
       "      <th>8</th>\n",
       "      <th>9</th>\n",
       "      <th>...</th>\n",
       "      <th>456</th>\n",
       "      <th>457</th>\n",
       "      <th>458</th>\n",
       "      <th>459</th>\n",
       "      <th>460</th>\n",
       "      <th>461</th>\n",
       "      <th>462</th>\n",
       "      <th>463</th>\n",
       "      <th>464</th>\n",
       "      <th>465</th>\n",
       "    </tr>\n",
       "  </thead>\n",
       "  <tbody>\n",
       "    <tr>\n",
       "      <th>0</th>\n",
       "      <td>3.0</td>\n",
       "      <td>2.0</td>\n",
       "      <td>127.990</td>\n",
       "      <td>3377.9</td>\n",
       "      <td>0.003564</td>\n",
       "      <td>0.005645</td>\n",
       "      <td>0.005891</td>\n",
       "      <td>0.008219</td>\n",
       "      <td>0.007325</td>\n",
       "      <td>0.009883</td>\n",
       "      <td>...</td>\n",
       "      <td>0.013994</td>\n",
       "      <td>0.013532</td>\n",
       "      <td>0.013157</td>\n",
       "      <td>0.012743</td>\n",
       "      <td>0.012613</td>\n",
       "      <td>0.012422</td>\n",
       "      <td>0.012252</td>\n",
       "      <td>0.011377</td>\n",
       "      <td>0.011198</td>\n",
       "      <td>0.011131</td>\n",
       "    </tr>\n",
       "    <tr>\n",
       "      <th>1</th>\n",
       "      <td>3.0</td>\n",
       "      <td>2.0</td>\n",
       "      <td>80.415</td>\n",
       "      <td>1852.1</td>\n",
       "      <td>0.004761</td>\n",
       "      <td>0.007558</td>\n",
       "      <td>0.005294</td>\n",
       "      <td>0.006863</td>\n",
       "      <td>0.006088</td>\n",
       "      <td>0.007074</td>\n",
       "      <td>...</td>\n",
       "      <td>0.003564</td>\n",
       "      <td>0.003380</td>\n",
       "      <td>0.003232</td>\n",
       "      <td>0.003200</td>\n",
       "      <td>0.003006</td>\n",
       "      <td>0.002985</td>\n",
       "      <td>0.002922</td>\n",
       "      <td>0.002631</td>\n",
       "      <td>0.002610</td>\n",
       "      <td>0.002531</td>\n",
       "    </tr>\n",
       "  </tbody>\n",
       "</table>\n",
       "<p>2 rows × 466 columns</p>\n",
       "</div>"
      ],
      "text/plain": [
       "   0    1        2       3         4         5         6         7    \\\n",
       "0  3.0  2.0  127.990  3377.9  0.003564  0.005645  0.005891  0.008219   \n",
       "1  3.0  2.0   80.415  1852.1  0.004761  0.007558  0.005294  0.006863   \n",
       "\n",
       "        8         9    ...       456       457       458       459       460  \\\n",
       "0  0.007325  0.009883  ...  0.013994  0.013532  0.013157  0.012743  0.012613   \n",
       "1  0.006088  0.007074  ...  0.003564  0.003380  0.003232  0.003200  0.003006   \n",
       "\n",
       "        461       462       463       464       465  \n",
       "0  0.012422  0.012252  0.011377  0.011198  0.011131  \n",
       "1  0.002985  0.002922  0.002631  0.002610  0.002531  \n",
       "\n",
       "[2 rows x 466 columns]"
      ]
     },
     "execution_count": 17,
     "metadata": {},
     "output_type": "execute_result"
    }
   ],
   "source": [
    "modified_nbi.head(2)"
   ]
  },
  {
   "cell_type": "code",
   "execution_count": 18,
   "metadata": {},
   "outputs": [
    {
     "data": {
      "text/html": [
       "<div>\n",
       "<style scoped>\n",
       "    .dataframe tbody tr th:only-of-type {\n",
       "        vertical-align: middle;\n",
       "    }\n",
       "\n",
       "    .dataframe tbody tr th {\n",
       "        vertical-align: top;\n",
       "    }\n",
       "\n",
       "    .dataframe thead th {\n",
       "        text-align: right;\n",
       "    }\n",
       "</style>\n",
       "<table border=\"1\" class=\"dataframe\">\n",
       "  <thead>\n",
       "    <tr style=\"text-align: right;\">\n",
       "      <th></th>\n",
       "      <th>0</th>\n",
       "      <th>1</th>\n",
       "      <th>2</th>\n",
       "      <th>3</th>\n",
       "      <th>4</th>\n",
       "      <th>5</th>\n",
       "      <th>6</th>\n",
       "      <th>7</th>\n",
       "      <th>8</th>\n",
       "      <th>9</th>\n",
       "      <th>...</th>\n",
       "      <th>457</th>\n",
       "      <th>458</th>\n",
       "      <th>459</th>\n",
       "      <th>460</th>\n",
       "      <th>461</th>\n",
       "      <th>462</th>\n",
       "      <th>463</th>\n",
       "      <th>464</th>\n",
       "      <th>465</th>\n",
       "      <th>466</th>\n",
       "    </tr>\n",
       "  </thead>\n",
       "  <tbody>\n",
       "    <tr>\n",
       "      <th>0</th>\n",
       "      <td>3.0</td>\n",
       "      <td>1.0</td>\n",
       "      <td>138.120</td>\n",
       "      <td>1606.8</td>\n",
       "      <td>0.003875</td>\n",
       "      <td>0.005880</td>\n",
       "      <td>0.005213</td>\n",
       "      <td>0.006935</td>\n",
       "      <td>0.007333</td>\n",
       "      <td>0.009580</td>\n",
       "      <td>...</td>\n",
       "      <td>0.013994</td>\n",
       "      <td>0.013532</td>\n",
       "      <td>0.013157</td>\n",
       "      <td>0.012743</td>\n",
       "      <td>0.012613</td>\n",
       "      <td>0.012422</td>\n",
       "      <td>0.012252</td>\n",
       "      <td>0.011377</td>\n",
       "      <td>0.011198</td>\n",
       "      <td>0.011131</td>\n",
       "    </tr>\n",
       "    <tr>\n",
       "      <th>1</th>\n",
       "      <td>3.0</td>\n",
       "      <td>1.0</td>\n",
       "      <td>90.896</td>\n",
       "      <td>1904.3</td>\n",
       "      <td>0.004147</td>\n",
       "      <td>0.006728</td>\n",
       "      <td>0.005061</td>\n",
       "      <td>0.006879</td>\n",
       "      <td>0.007948</td>\n",
       "      <td>0.009525</td>\n",
       "      <td>...</td>\n",
       "      <td>0.003564</td>\n",
       "      <td>0.003380</td>\n",
       "      <td>0.003232</td>\n",
       "      <td>0.003200</td>\n",
       "      <td>0.003006</td>\n",
       "      <td>0.002985</td>\n",
       "      <td>0.002922</td>\n",
       "      <td>0.002631</td>\n",
       "      <td>0.002610</td>\n",
       "      <td>0.002531</td>\n",
       "    </tr>\n",
       "  </tbody>\n",
       "</table>\n",
       "<p>2 rows × 467 columns</p>\n",
       "</div>"
      ],
      "text/plain": [
       "   0    1        2       3         4         5         6         7    \\\n",
       "0  3.0  1.0  138.120  1606.8  0.003875  0.005880  0.005213  0.006935   \n",
       "1  3.0  1.0   90.896  1904.3  0.004147  0.006728  0.005061  0.006879   \n",
       "\n",
       "        8         9    ...       457       458       459       460       461  \\\n",
       "0  0.007333  0.009580  ...  0.013994  0.013532  0.013157  0.012743  0.012613   \n",
       "1  0.007948  0.009525  ...  0.003564  0.003380  0.003232  0.003200  0.003006   \n",
       "\n",
       "        462       463       464       465       466  \n",
       "0  0.012422  0.012252  0.011377  0.011198  0.011131  \n",
       "1  0.002985  0.002922  0.002631  0.002610  0.002531  \n",
       "\n",
       "[2 rows x 467 columns]"
      ]
     },
     "execution_count": 18,
     "metadata": {},
     "output_type": "execute_result"
    }
   ],
   "source": [
    "modified_wli.head(2)"
   ]
  },
  {
   "cell_type": "code",
   "execution_count": 19,
   "metadata": {},
   "outputs": [
    {
     "name": "stdout",
     "output_type": "stream",
     "text": [
      "number of features: 76\n"
     ]
    }
   ],
   "source": [
    "print(\"number of features: {}\".format(len(modified_nbi)))"
   ]
  },
  {
   "cell_type": "code",
   "execution_count": 20,
   "metadata": {},
   "outputs": [],
   "source": [
    "#divide the modified_(nbi/wli) into X, y\n",
    "#second column is constant (lighting type)\n",
    "X_nbi = modified_nbi.iloc[:, 2:466]\n",
    "X_nbi = X_nbi.T.reset_index(drop=True).T\n",
    "y_nbi = modified_nbi.iloc[:, 0] \n",
    "\n",
    "X_wli = modified_wli.iloc[:, 2:466]\n",
    "X_wli = X_wli.T.reset_index(drop=True).T\n",
    "y_wli = modified_wli.iloc[:, 0] "
   ]
  },
  {
   "cell_type": "code",
   "execution_count": 21,
   "metadata": {},
   "outputs": [
    {
     "data": {
      "text/html": [
       "<div>\n",
       "<style scoped>\n",
       "    .dataframe tbody tr th:only-of-type {\n",
       "        vertical-align: middle;\n",
       "    }\n",
       "\n",
       "    .dataframe tbody tr th {\n",
       "        vertical-align: top;\n",
       "    }\n",
       "\n",
       "    .dataframe thead th {\n",
       "        text-align: right;\n",
       "    }\n",
       "</style>\n",
       "<table border=\"1\" class=\"dataframe\">\n",
       "  <thead>\n",
       "    <tr style=\"text-align: right;\">\n",
       "      <th></th>\n",
       "      <th>0</th>\n",
       "      <th>1</th>\n",
       "      <th>2</th>\n",
       "      <th>3</th>\n",
       "      <th>4</th>\n",
       "      <th>5</th>\n",
       "      <th>6</th>\n",
       "      <th>7</th>\n",
       "      <th>8</th>\n",
       "      <th>9</th>\n",
       "      <th>...</th>\n",
       "      <th>454</th>\n",
       "      <th>455</th>\n",
       "      <th>456</th>\n",
       "      <th>457</th>\n",
       "      <th>458</th>\n",
       "      <th>459</th>\n",
       "      <th>460</th>\n",
       "      <th>461</th>\n",
       "      <th>462</th>\n",
       "      <th>463</th>\n",
       "    </tr>\n",
       "  </thead>\n",
       "  <tbody>\n",
       "    <tr>\n",
       "      <th>0</th>\n",
       "      <td>127.990</td>\n",
       "      <td>3377.9</td>\n",
       "      <td>0.003564</td>\n",
       "      <td>0.005645</td>\n",
       "      <td>0.005891</td>\n",
       "      <td>0.008219</td>\n",
       "      <td>0.007325</td>\n",
       "      <td>0.009883</td>\n",
       "      <td>0.007288</td>\n",
       "      <td>0.006699</td>\n",
       "      <td>...</td>\n",
       "      <td>0.013994</td>\n",
       "      <td>0.013532</td>\n",
       "      <td>0.013157</td>\n",
       "      <td>0.012743</td>\n",
       "      <td>0.012613</td>\n",
       "      <td>0.012422</td>\n",
       "      <td>0.012252</td>\n",
       "      <td>0.011377</td>\n",
       "      <td>0.011198</td>\n",
       "      <td>0.011131</td>\n",
       "    </tr>\n",
       "    <tr>\n",
       "      <th>1</th>\n",
       "      <td>80.415</td>\n",
       "      <td>1852.1</td>\n",
       "      <td>0.004761</td>\n",
       "      <td>0.007558</td>\n",
       "      <td>0.005294</td>\n",
       "      <td>0.006863</td>\n",
       "      <td>0.006088</td>\n",
       "      <td>0.007074</td>\n",
       "      <td>0.008361</td>\n",
       "      <td>0.009298</td>\n",
       "      <td>...</td>\n",
       "      <td>0.003564</td>\n",
       "      <td>0.003380</td>\n",
       "      <td>0.003232</td>\n",
       "      <td>0.003200</td>\n",
       "      <td>0.003006</td>\n",
       "      <td>0.002985</td>\n",
       "      <td>0.002922</td>\n",
       "      <td>0.002631</td>\n",
       "      <td>0.002610</td>\n",
       "      <td>0.002531</td>\n",
       "    </tr>\n",
       "  </tbody>\n",
       "</table>\n",
       "<p>2 rows × 464 columns</p>\n",
       "</div>"
      ],
      "text/plain": [
       "       0       1         2         3         4         5         6    \\\n",
       "0  127.990  3377.9  0.003564  0.005645  0.005891  0.008219  0.007325   \n",
       "1   80.415  1852.1  0.004761  0.007558  0.005294  0.006863  0.006088   \n",
       "\n",
       "        7         8         9    ...       454       455       456       457  \\\n",
       "0  0.009883  0.007288  0.006699  ...  0.013994  0.013532  0.013157  0.012743   \n",
       "1  0.007074  0.008361  0.009298  ...  0.003564  0.003380  0.003232  0.003200   \n",
       "\n",
       "        458       459       460       461       462       463  \n",
       "0  0.012613  0.012422  0.012252  0.011377  0.011198  0.011131  \n",
       "1  0.003006  0.002985  0.002922  0.002631  0.002610  0.002531  \n",
       "\n",
       "[2 rows x 464 columns]"
      ]
     },
     "execution_count": 21,
     "metadata": {},
     "output_type": "execute_result"
    }
   ],
   "source": [
    "X_nbi.head(2)"
   ]
  },
  {
   "cell_type": "code",
   "execution_count": 22,
   "metadata": {},
   "outputs": [
    {
     "data": {
      "text/html": [
       "<div>\n",
       "<style scoped>\n",
       "    .dataframe tbody tr th:only-of-type {\n",
       "        vertical-align: middle;\n",
       "    }\n",
       "\n",
       "    .dataframe tbody tr th {\n",
       "        vertical-align: top;\n",
       "    }\n",
       "\n",
       "    .dataframe thead th {\n",
       "        text-align: right;\n",
       "    }\n",
       "</style>\n",
       "<table border=\"1\" class=\"dataframe\">\n",
       "  <thead>\n",
       "    <tr style=\"text-align: right;\">\n",
       "      <th></th>\n",
       "      <th>0</th>\n",
       "      <th>1</th>\n",
       "      <th>2</th>\n",
       "      <th>3</th>\n",
       "      <th>4</th>\n",
       "      <th>5</th>\n",
       "      <th>6</th>\n",
       "      <th>7</th>\n",
       "      <th>8</th>\n",
       "      <th>9</th>\n",
       "      <th>...</th>\n",
       "      <th>454</th>\n",
       "      <th>455</th>\n",
       "      <th>456</th>\n",
       "      <th>457</th>\n",
       "      <th>458</th>\n",
       "      <th>459</th>\n",
       "      <th>460</th>\n",
       "      <th>461</th>\n",
       "      <th>462</th>\n",
       "      <th>463</th>\n",
       "    </tr>\n",
       "  </thead>\n",
       "  <tbody>\n",
       "    <tr>\n",
       "      <th>0</th>\n",
       "      <td>138.120</td>\n",
       "      <td>1606.8</td>\n",
       "      <td>0.003875</td>\n",
       "      <td>0.005880</td>\n",
       "      <td>0.005213</td>\n",
       "      <td>0.006935</td>\n",
       "      <td>0.007333</td>\n",
       "      <td>0.009580</td>\n",
       "      <td>0.007380</td>\n",
       "      <td>0.006751</td>\n",
       "      <td>...</td>\n",
       "      <td>0.014486</td>\n",
       "      <td>0.013994</td>\n",
       "      <td>0.013532</td>\n",
       "      <td>0.013157</td>\n",
       "      <td>0.012743</td>\n",
       "      <td>0.012613</td>\n",
       "      <td>0.012422</td>\n",
       "      <td>0.012252</td>\n",
       "      <td>0.011377</td>\n",
       "      <td>0.011198</td>\n",
       "    </tr>\n",
       "    <tr>\n",
       "      <th>1</th>\n",
       "      <td>90.896</td>\n",
       "      <td>1904.3</td>\n",
       "      <td>0.004147</td>\n",
       "      <td>0.006728</td>\n",
       "      <td>0.005061</td>\n",
       "      <td>0.006879</td>\n",
       "      <td>0.007948</td>\n",
       "      <td>0.009525</td>\n",
       "      <td>0.010492</td>\n",
       "      <td>0.011988</td>\n",
       "      <td>...</td>\n",
       "      <td>0.003712</td>\n",
       "      <td>0.003564</td>\n",
       "      <td>0.003380</td>\n",
       "      <td>0.003232</td>\n",
       "      <td>0.003200</td>\n",
       "      <td>0.003006</td>\n",
       "      <td>0.002985</td>\n",
       "      <td>0.002922</td>\n",
       "      <td>0.002631</td>\n",
       "      <td>0.002610</td>\n",
       "    </tr>\n",
       "  </tbody>\n",
       "</table>\n",
       "<p>2 rows × 464 columns</p>\n",
       "</div>"
      ],
      "text/plain": [
       "       0       1         2         3         4         5         6    \\\n",
       "0  138.120  1606.8  0.003875  0.005880  0.005213  0.006935  0.007333   \n",
       "1   90.896  1904.3  0.004147  0.006728  0.005061  0.006879  0.007948   \n",
       "\n",
       "        7         8         9    ...       454       455       456       457  \\\n",
       "0  0.009580  0.007380  0.006751  ...  0.014486  0.013994  0.013532  0.013157   \n",
       "1  0.009525  0.010492  0.011988  ...  0.003712  0.003564  0.003380  0.003232   \n",
       "\n",
       "        458       459       460       461       462       463  \n",
       "0  0.012743  0.012613  0.012422  0.012252  0.011377  0.011198  \n",
       "1  0.003200  0.003006  0.002985  0.002922  0.002631  0.002610  \n",
       "\n",
       "[2 rows x 464 columns]"
      ]
     },
     "execution_count": 22,
     "metadata": {},
     "output_type": "execute_result"
    }
   ],
   "source": [
    "X_wli.head(2)"
   ]
  },
  {
   "cell_type": "code",
   "execution_count": 23,
   "metadata": {},
   "outputs": [
    {
     "data": {
      "text/plain": [
       "0     3.0\n",
       "1     3.0\n",
       "2     3.0\n",
       "3     3.0\n",
       "4     3.0\n",
       "     ... \n",
       "71    2.0\n",
       "72    2.0\n",
       "73    2.0\n",
       "74    2.0\n",
       "75    2.0\n",
       "Name: 0, Length: 76, dtype: float64"
      ]
     },
     "execution_count": 23,
     "metadata": {},
     "output_type": "execute_result"
    }
   ],
   "source": [
    "y_nbi"
   ]
  },
  {
   "cell_type": "markdown",
   "metadata": {},
   "source": [
    "### Binary classification: here, I have compared each class with the other two categories to see which feature works better for individual labels."
   ]
  },
  {
   "cell_type": "code",
   "execution_count": 24,
   "metadata": {},
   "outputs": [],
   "source": [
    "#New label (4) is set for the 2 and 3 labels. Then, label 1 is compared with label 4.\n",
    "test1 = np.where(y_nbi == 2, 4, y_nbi)\n",
    "test1 = np.where(test1 == 3, 4, test1)"
   ]
  },
  {
   "cell_type": "code",
   "execution_count": 31,
   "metadata": {},
   "outputs": [
    {
     "name": "stdout",
     "output_type": "stream",
     "text": [
      "     Specs      Score\n",
      "238    238  51.581782\n",
      "256    256  45.092477\n",
      "263    263  44.033628\n",
      "252    252  38.921506\n",
      "234    234  38.603726\n"
     ]
    }
   ],
   "source": [
    "#NBI\n",
    "bestfeatures_nbi = SelectKBest(score_func=f_classif, k=10)\n",
    "fit = bestfeatures_nbi.fit(X_nbi,test1)\n",
    "dfscores = pd.DataFrame(fit.scores_)\n",
    "dfcolumns = pd.DataFrame(X_nbi.columns)\n",
    "\n",
    "#concat two dataframes for better visualization \n",
    "featureScores = pd.concat([dfcolumns,dfscores],axis=1)\n",
    "featureScores.columns = ['Specs','Score']  #naming the dataframe columns\n",
    "print(featureScores.nlargest(5,'Score'))  #print k best features"
   ]
  },
  {
   "cell_type": "code",
   "execution_count": 32,
   "metadata": {},
   "outputs": [],
   "source": [
    "#Label 2 is compared with the rest\n",
    "test2 = np.where(y_nbi == 1, 4, y_nbi)\n",
    "test2 = np.where(test2 == 3, 4, test2)"
   ]
  },
  {
   "cell_type": "code",
   "execution_count": 33,
   "metadata": {},
   "outputs": [
    {
     "name": "stdout",
     "output_type": "stream",
     "text": [
      "     Specs      Score\n",
      "188    188  21.030121\n",
      "180    180  20.745597\n",
      "184    184  19.416794\n",
      "191    191  18.845571\n",
      "190    190  18.559518\n"
     ]
    }
   ],
   "source": [
    "bestfeatures_nbi = SelectKBest(score_func=f_classif, k=10)\n",
    "fit = bestfeatures_nbi.fit(X_nbi,test2)\n",
    "dfscores = pd.DataFrame(fit.scores_)\n",
    "dfcolumns = pd.DataFrame(X_nbi.columns)\n",
    "\n",
    "#concat two dataframes for better visualization \n",
    "featureScores = pd.concat([dfcolumns,dfscores],axis=1)\n",
    "featureScores.columns = ['Specs','Score']  #naming the dataframe columns\n",
    "print(featureScores.nlargest(5,'Score'))  #print k best features"
   ]
  },
  {
   "cell_type": "code",
   "execution_count": 34,
   "metadata": {},
   "outputs": [],
   "source": [
    "#Label 3 is compared with the rest\n",
    "test3 = np.where(y_nbi == 1, 4, y_nbi)\n",
    "test3 = np.where(test3 == 2, 4, test3)"
   ]
  },
  {
   "cell_type": "code",
   "execution_count": 35,
   "metadata": {},
   "outputs": [
    {
     "name": "stdout",
     "output_type": "stream",
     "text": [
      "     Specs      Score\n",
      "256    256  17.292108\n",
      "245    245  12.831329\n",
      "254    254  10.146131\n",
      "263    263  10.108831\n",
      "234    234   9.863690\n"
     ]
    }
   ],
   "source": [
    "bestfeatures_nbi = SelectKBest(score_func=f_classif, k=10)\n",
    "fit = bestfeatures_nbi.fit(X_nbi,test3)\n",
    "dfscores = pd.DataFrame(fit.scores_)\n",
    "dfcolumns = pd.DataFrame(X_nbi.columns)\n",
    "\n",
    "#concat two dataframes for better visualization \n",
    "featureScores = pd.concat([dfcolumns,dfscores],axis=1)\n",
    "featureScores.columns = ['Specs','Score']  #naming the dataframe columns\n",
    "print(featureScores.nlargest(5,'Score'))  #print k best features"
   ]
  },
  {
   "cell_type": "code",
   "execution_count": 36,
   "metadata": {},
   "outputs": [],
   "source": [
    "# Same procedure for the WLI images\n",
    "test1 = np.where(y_wli == 2, 4, y_wli)\n",
    "test1 = np.where(test1 == 3, 4, test1)"
   ]
  },
  {
   "cell_type": "code",
   "execution_count": 37,
   "metadata": {},
   "outputs": [
    {
     "name": "stdout",
     "output_type": "stream",
     "text": [
      "     Specs      Score\n",
      "239    239  45.545058\n",
      "168    168  39.882352\n",
      "253    253  37.840578\n",
      "264    264  35.871765\n",
      "188    188  35.312174\n"
     ]
    }
   ],
   "source": [
    "bestfeatures_wli = SelectKBest(score_func=f_classif, k=10)\n",
    "fit = bestfeatures_wli.fit(X_wli,test1)\n",
    "dfscores = pd.DataFrame(fit.scores_)\n",
    "dfcolumns = pd.DataFrame(X_wli.columns)\n",
    "\n",
    "#concat two dataframes for better visualization \n",
    "featureScores = pd.concat([dfcolumns,dfscores],axis=1)\n",
    "featureScores.columns = ['Specs','Score']  #naming the dataframe columns\n",
    "print(featureScores.nlargest(5,'Score'))  #print k best features"
   ]
  },
  {
   "cell_type": "code",
   "execution_count": 38,
   "metadata": {},
   "outputs": [],
   "source": [
    "test2 = np.where(y_wli == 1, 4, y_wli)\n",
    "test2 = np.where(test2 == 3, 4, test2)"
   ]
  },
  {
   "cell_type": "code",
   "execution_count": 39,
   "metadata": {},
   "outputs": [
    {
     "name": "stdout",
     "output_type": "stream",
     "text": [
      "     Specs      Score\n",
      "203    203  17.200354\n",
      "199    199  15.685007\n",
      "184    184  15.357937\n",
      "178    178  15.035246\n",
      "191    191  13.719658\n"
     ]
    }
   ],
   "source": [
    "bestfeatures_wli = SelectKBest(score_func=f_classif, k=10)\n",
    "fit = bestfeatures_wli.fit(X_wli,test2)\n",
    "dfscores = pd.DataFrame(fit.scores_)\n",
    "dfcolumns = pd.DataFrame(X_wli.columns)\n",
    "\n",
    "#concat two dataframes for better visualization \n",
    "featureScores = pd.concat([dfcolumns,dfscores],axis=1)\n",
    "featureScores.columns = ['Specs','Score']  #naming the dataframe columns\n",
    "print(featureScores.nlargest(5,'Score'))  #print k best features"
   ]
  },
  {
   "cell_type": "code",
   "execution_count": 40,
   "metadata": {},
   "outputs": [],
   "source": [
    "test3 = np.where(y_wli == 1, 4, y_wli)\n",
    "test3 = np.where(test3 == 2, 4, test3)"
   ]
  },
  {
   "cell_type": "code",
   "execution_count": 41,
   "metadata": {},
   "outputs": [
    {
     "name": "stdout",
     "output_type": "stream",
     "text": [
      "     Specs      Score\n",
      "257    257  14.146197\n",
      "221    221  13.573112\n",
      "216    216  13.132177\n",
      "239    239  12.723362\n",
      "242    242  12.075192\n"
     ]
    }
   ],
   "source": [
    "bestfeatures_wli = SelectKBest(score_func=f_classif, k=10)\n",
    "fit = bestfeatures_wli.fit(X_wli,test3)\n",
    "dfscores = pd.DataFrame(fit.scores_)\n",
    "dfcolumns = pd.DataFrame(X_wli.columns)\n",
    "\n",
    "#concat two dataframes for better visualization \n",
    "featureScores = pd.concat([dfcolumns,dfscores],axis=1)\n",
    "featureScores.columns = ['Specs','Score']  #naming the dataframe columns\n",
    "print(featureScores.nlargest(5,'Score'))  #print k best features"
   ]
  },
  {
   "cell_type": "markdown",
   "metadata": {},
   "source": [
    "### Select K Best Features (in general):"
   ]
  },
  {
   "cell_type": "code",
   "execution_count": 43,
   "metadata": {},
   "outputs": [
    {
     "name": "stdout",
     "output_type": "stream",
     "text": [
      "     Specs      Score\n",
      "238    238  27.355963\n",
      "180    180  24.747039\n",
      "188    188  24.417583\n",
      "256    256  22.436829\n",
      "263    263  22.144322\n",
      "168    168  21.806719\n",
      "191    191  20.842124\n",
      "190    190  20.831293\n",
      "172    172  20.653541\n",
      "176    176  20.600428\n",
      "184    184  20.125515\n",
      "179    179  19.582276\n",
      "252    252  19.565151\n",
      "234    234  19.258522\n",
      "169    169  18.391448\n",
      "245    245  17.615931\n",
      "173    173  16.617014\n",
      "166    166  16.610502\n",
      "178    178  16.553966\n",
      "192    192  16.251152\n"
     ]
    }
   ],
   "source": [
    "#NBI\n",
    "bestfeatures_nbi = SelectKBest(score_func=f_classif, k=10)\n",
    "fit = bestfeatures_nbi.fit(X_nbi,y_nbi)\n",
    "dfscores = pd.DataFrame(fit.scores_)\n",
    "dfcolumns = pd.DataFrame(X_nbi.columns)\n",
    "\n",
    "#concat two dataframes for better visualization \n",
    "featureScores = pd.concat([dfcolumns,dfscores],axis=1)\n",
    "featureScores.columns = ['Specs','Score']  #naming the dataframe columns\n",
    "print(featureScores.nlargest(20,'Score'))  #print k best features"
   ]
  },
  {
   "cell_type": "code",
   "execution_count": 41,
   "metadata": {},
   "outputs": [
    {
     "name": "stdout",
     "output_type": "stream",
     "text": [
      "     Specs      Score\n",
      "168    168  22.886028\n",
      "239    239  22.524598\n",
      "188    188  20.410938\n",
      "199    199  19.266896\n",
      "191    191  19.175634\n",
      "179    179  19.030240\n",
      "253    253  18.753236\n",
      "173    173  18.654480\n",
      "176    176  18.585692\n",
      "172    172  18.268805\n",
      "167    167  18.250036\n",
      "178    178  17.933554\n",
      "180    180  17.807960\n",
      "190    190  17.749788\n",
      "264    264  17.730026\n",
      "249    249  17.729384\n",
      "203    203  17.586091\n",
      "187    187  17.390003\n",
      "192    192  17.229799\n",
      "169    169  17.223291\n"
     ]
    }
   ],
   "source": [
    "#WLI\n",
    "bestfeatures_wli = SelectKBest(score_func=f_classif, k=10)\n",
    "fit = bestfeatures_wli.fit(X_wli,y_wli)\n",
    "dfscores = pd.DataFrame(fit.scores_)\n",
    "dfcolumns = pd.DataFrame(X_wli.columns)\n",
    "\n",
    "#concat two dataframes for better visualization \n",
    "featureScores = pd.concat([dfcolumns,dfscores],axis=1)\n",
    "featureScores.columns = ['Specs','Score']  #naming the dataframe columns\n",
    "print(featureScores.nlargest(20,'Score'))  #print k best features"
   ]
  },
  {
   "cell_type": "markdown",
   "metadata": {},
   "source": [
    "#### test_X_nbi = 6 best features from 3 different labels (considering binarry classifications)"
   ]
  },
  {
   "cell_type": "code",
   "execution_count": 44,
   "metadata": {},
   "outputs": [],
   "source": [
    "test_X_nbi = X_nbi.iloc[:, [238, 256, 188, 180, 245, 254]]"
   ]
  },
  {
   "cell_type": "markdown",
   "metadata": {},
   "source": [
    "## Density plots:"
   ]
  },
  {
   "cell_type": "code",
   "execution_count": 46,
   "metadata": {},
   "outputs": [],
   "source": [
    "#WLI\n",
    "wli_sub1=modified_wli.loc[modified_wli[0]==1]\n",
    "wli_sub2=modified_wli.loc[modified_wli[0]==2]\n",
    "wli_sub3=modified_wli.loc[modified_wli[0]==3]\n",
    "\n",
    "wli_array,figs,axes=[],[],[]\n",
    "for i in range(len(modified_wli.columns)-2):\n",
    "    wli_array.append(pd.concat([wli_sub1.iloc[:, i+2], wli_sub2.iloc[:, i+2], wli_sub3.iloc[:, i+2]], axis=1))\n",
    "    wli_array[i].columns=['Label = 1','Label = 2','Label = 3']"
   ]
  },
  {
   "cell_type": "code",
   "execution_count": 48,
   "metadata": {},
   "outputs": [
    {
     "data": {
      "image/png": "[encoded data removed]",
      "text/plain": [
       "<Figure size 432x288 with 1 Axes>"
      ]
     },
     "metadata": {
      "needs_background": "light"
     },
     "output_type": "display_data"
    },
    {
     "data": {
      "image/png": "[encoded data removed]",
      "text/plain": [
       "<Figure size 432x288 with 1 Axes>"
      ]
     },
     "metadata": {
      "needs_background": "light"
     },
     "output_type": "display_data"
    },
    {
     "data": {
      "image/png": "[encoded data removed]",
      "text/plain": [
       "<Figure size 432x288 with 1 Axes>"
      ]
     },
     "metadata": {
      "needs_background": "light"
     },
     "output_type": "display_data"
    }
   ],
   "source": [
    "index=[168, 239, 188]\n",
    "for i in index:\n",
    "    wli_array[i].plot.density(title='WLI - density plot for F{}'.format(i + 1))"
   ]
  },
  {
   "cell_type": "code",
   "execution_count": 49,
   "metadata": {},
   "outputs": [],
   "source": [
    "#NBI\n",
    "nbi_sub1=modified_nbi.loc[modified_nbi[0]==1]\n",
    "nbi_sub2=modified_nbi.loc[modified_nbi[0]==2]\n",
    "nbi_sub3=modified_nbi.loc[modified_nbi[0]==3]\n",
    "\n",
    "nbi_array,figs,axes=[],[],[]\n",
    "for i in range(len(modified_nbi.columns)-2):\n",
    "    nbi_array.append(pd.concat([nbi_sub1.iloc[:, i+2], nbi_sub2.iloc[:, i+2], nbi_sub3.iloc[:, i+2]], axis=1))\n",
    "    nbi_array[i].columns=['Label = 1','Label = 2','Label = 3']"
   ]
  },
  {
   "cell_type": "code",
   "execution_count": 50,
   "metadata": {},
   "outputs": [
    {
     "data": {
      "text/plain": [
       "array([[<matplotlib.axes._subplots.AxesSubplot object at 0x000000B0E9AA7A30>,\n",
       "        <matplotlib.axes._subplots.AxesSubplot object at 0x000000B0EABB67F0>],\n",
       "       [<matplotlib.axes._subplots.AxesSubplot object at 0x000000B0EABDCEB0>,\n",
       "        <matplotlib.axes._subplots.AxesSubplot object at 0x000000B0EAC0D6D0>]],\n",
       "      dtype=object)"
      ]
     },
     "execution_count": 50,
     "metadata": {},
     "output_type": "execute_result"
    },
    {
     "data": {
      "image/png": "[encoded data removed]",
      "text/plain": [
       "<Figure size 432x288 with 4 Axes>"
      ]
     },
     "metadata": {
      "needs_background": "light"
     },
     "output_type": "display_data"
    }
   ],
   "source": [
    "nbi_array[0].hist()"
   ]
  },
  {
   "cell_type": "code",
   "execution_count": 54,
   "metadata": {},
   "outputs": [
    {
     "data": {
      "image/png": "[encoded data removed]",
      "text/plain": [
       "<Figure size 432x288 with 1 Axes>"
      ]
     },
     "metadata": {
      "needs_background": "light"
     },
     "output_type": "display_data"
    },
    {
     "data": {
      "image/png": "[encoded data removed]",
      "text/plain": [
       "<Figure size 432x288 with 1 Axes>"
      ]
     },
     "metadata": {
      "needs_background": "light"
     },
     "output_type": "display_data"
    },
    {
     "data": {
      "image/png": "[encoded data removed]",
      "text/plain": [
       "<Figure size 432x288 with 1 Axes>"
      ]
     },
     "metadata": {
      "needs_background": "light"
     },
     "output_type": "display_data"
    },
    {
     "data": {
      "image/png": "[encoded data removed]",
      "text/plain": [
       "<Figure size 432x288 with 1 Axes>"
      ]
     },
     "metadata": {
      "needs_background": "light"
     },
     "output_type": "display_data"
    },
    {
     "data": {
      "image/png": "[encoded data removed]",
      "text/plain": [
       "<Figure size 432x288 with 1 Axes>"
      ]
     },
     "metadata": {
      "needs_background": "light"
     },
     "output_type": "display_data"
    },
    {
     "data": {
      "image/png": "[encoded data removed]",
      "text/plain": [
       "<Figure size 432x288 with 1 Axes>"
      ]
     },
     "metadata": {
      "needs_background": "light"
     },
     "output_type": "display_data"
    }
   ],
   "source": [
    "best6 = [238, 180, 188, 256, 263, 168]\n",
    "for index in best6:\n",
    "    nbi_array[index].plot.density(title='Density plot for F{}'.format(index))"
   ]
  },
  {
   "cell_type": "markdown",
   "metadata": {},
   "source": [
    "### 6 Worst of X_nbi"
   ]
  },
  {
   "cell_type": "code",
   "execution_count": 58,
   "metadata": {},
   "outputs": [
    {
     "data": {
      "image/png": "[encoded data removed]",
      "text/plain": [
       "<Figure size 432x288 with 1 Axes>"
      ]
     },
     "metadata": {
      "needs_background": "light"
     },
     "output_type": "display_data"
    },
    {
     "data": {
      "image/png": "[encoded data removed]",
      "text/plain": [
       "<Figure size 432x288 with 1 Axes>"
      ]
     },
     "metadata": {
      "needs_background": "light"
     },
     "output_type": "display_data"
    },
    {
     "data": {
      "image/png": "[encoded data removed]",
      "text/plain": [
       "<Figure size 432x288 with 1 Axes>"
      ]
     },
     "metadata": {
      "needs_background": "light"
     },
     "output_type": "display_data"
    },
    {
     "data": {
      "image/png": "[encoded data removed]",
      "text/plain": [
       "<Figure size 432x288 with 1 Axes>"
      ]
     },
     "metadata": {
      "needs_background": "light"
     },
     "output_type": "display_data"
    },
    {
     "data": {
      "image/png": "[encoded data removed]",
      "text/plain": [
       "<Figure size 432x288 with 1 Axes>"
      ]
     },
     "metadata": {
      "needs_background": "light"
     },
     "output_type": "display_data"
    },
    {
     "data": {
      "image/png": "[encoded data removed]",
      "text/plain": [
       "<Figure size 432x288 with 1 Axes>"
      ]
     },
     "metadata": {
      "needs_background": "light"
     },
     "output_type": "display_data"
    }
   ],
   "source": [
    "worst6d = X_nbi.iloc[:, [84, 274, 293, 271, 270, 150]]\n",
    "worst6 = [84, 274, 293, 271, 270, 150]\n",
    "for i in worst6:\n",
    "    nbi_array[i].plot.density(title='Density plot for F{}'.format(i))"
   ]
  },
  {
   "cell_type": "code",
   "execution_count": 67,
   "metadata": {},
   "outputs": [
    {
     "data": {
      "text/html": [
       "<div>\n",
       "<style scoped>\n",
       "    .dataframe tbody tr th:only-of-type {\n",
       "        vertical-align: middle;\n",
       "    }\n",
       "\n",
       "    .dataframe tbody tr th {\n",
       "        vertical-align: top;\n",
       "    }\n",
       "\n",
       "    .dataframe thead th {\n",
       "        text-align: right;\n",
       "    }\n",
       "</style>\n",
       "<table border=\"1\" class=\"dataframe\">\n",
       "  <thead>\n",
       "    <tr style=\"text-align: right;\">\n",
       "      <th></th>\n",
       "      <th>84</th>\n",
       "      <th>274</th>\n",
       "      <th>293</th>\n",
       "      <th>271</th>\n",
       "      <th>270</th>\n",
       "      <th>150</th>\n",
       "    </tr>\n",
       "  </thead>\n",
       "  <tbody>\n",
       "    <tr>\n",
       "      <th>count</th>\n",
       "      <td>76.000000</td>\n",
       "      <td>76.000000</td>\n",
       "      <td>76.000000</td>\n",
       "      <td>76.000000</td>\n",
       "      <td>76.000000</td>\n",
       "      <td>76.000000</td>\n",
       "    </tr>\n",
       "    <tr>\n",
       "      <th>mean</th>\n",
       "      <td>0.041462</td>\n",
       "      <td>0.019353</td>\n",
       "      <td>0.057533</td>\n",
       "      <td>0.012587</td>\n",
       "      <td>0.011065</td>\n",
       "      <td>0.085083</td>\n",
       "    </tr>\n",
       "    <tr>\n",
       "      <th>std</th>\n",
       "      <td>0.010073</td>\n",
       "      <td>0.002515</td>\n",
       "      <td>0.004336</td>\n",
       "      <td>0.002002</td>\n",
       "      <td>0.001796</td>\n",
       "      <td>0.009489</td>\n",
       "    </tr>\n",
       "    <tr>\n",
       "      <th>min</th>\n",
       "      <td>0.017688</td>\n",
       "      <td>0.003105</td>\n",
       "      <td>0.041074</td>\n",
       "      <td>0.000008</td>\n",
       "      <td>0.000008</td>\n",
       "      <td>0.064930</td>\n",
       "    </tr>\n",
       "    <tr>\n",
       "      <th>25%</th>\n",
       "      <td>0.034241</td>\n",
       "      <td>0.018887</td>\n",
       "      <td>0.056610</td>\n",
       "      <td>0.012102</td>\n",
       "      <td>0.010646</td>\n",
       "      <td>0.078515</td>\n",
       "    </tr>\n",
       "    <tr>\n",
       "      <th>50%</th>\n",
       "      <td>0.041903</td>\n",
       "      <td>0.019404</td>\n",
       "      <td>0.058263</td>\n",
       "      <td>0.012775</td>\n",
       "      <td>0.011257</td>\n",
       "      <td>0.085179</td>\n",
       "    </tr>\n",
       "    <tr>\n",
       "      <th>75%</th>\n",
       "      <td>0.046453</td>\n",
       "      <td>0.020599</td>\n",
       "      <td>0.059715</td>\n",
       "      <td>0.013247</td>\n",
       "      <td>0.011667</td>\n",
       "      <td>0.091244</td>\n",
       "    </tr>\n",
       "    <tr>\n",
       "      <th>max</th>\n",
       "      <td>0.070452</td>\n",
       "      <td>0.025862</td>\n",
       "      <td>0.070640</td>\n",
       "      <td>0.016499</td>\n",
       "      <td>0.014786</td>\n",
       "      <td>0.118100</td>\n",
       "    </tr>\n",
       "  </tbody>\n",
       "</table>\n",
       "</div>"
      ],
      "text/plain": [
       "             84         274        293        271        270        150\n",
       "count  76.000000  76.000000  76.000000  76.000000  76.000000  76.000000\n",
       "mean    0.041462   0.019353   0.057533   0.012587   0.011065   0.085083\n",
       "std     0.010073   0.002515   0.004336   0.002002   0.001796   0.009489\n",
       "min     0.017688   0.003105   0.041074   0.000008   0.000008   0.064930\n",
       "25%     0.034241   0.018887   0.056610   0.012102   0.010646   0.078515\n",
       "50%     0.041903   0.019404   0.058263   0.012775   0.011257   0.085179\n",
       "75%     0.046453   0.020599   0.059715   0.013247   0.011667   0.091244\n",
       "max     0.070452   0.025862   0.070640   0.016499   0.014786   0.118100"
      ]
     },
     "execution_count": 67,
     "metadata": {},
     "output_type": "execute_result"
    }
   ],
   "source": [
    "worst6d.describe()"
   ]
  },
  {
   "cell_type": "code",
   "execution_count": 68,
   "metadata": {},
   "outputs": [
    {
     "data": {
      "text/plain": [
       "array([[<matplotlib.axes._subplots.AxesSubplot object at 0x0000009850B10640>,\n",
       "        <matplotlib.axes._subplots.AxesSubplot object at 0x0000009851529A60>],\n",
       "       [<matplotlib.axes._subplots.AxesSubplot object at 0x00000098514EE5B0>,\n",
       "        <matplotlib.axes._subplots.AxesSubplot object at 0x0000009850B7FD30>],\n",
       "       [<matplotlib.axes._subplots.AxesSubplot object at 0x00000098500C14F0>,\n",
       "        <matplotlib.axes._subplots.AxesSubplot object at 0x00000098500EBBB0>]],\n",
       "      dtype=object)"
      ]
     },
     "execution_count": 68,
     "metadata": {},
     "output_type": "execute_result"
    },
    {
     "data": {
      "image/png": "[encoded data removed]",
      "text/plain": [
       "<Figure size 432x288 with 6 Axes>"
      ]
     },
     "metadata": {
      "needs_background": "light"
     },
     "output_type": "display_data"
    }
   ],
   "source": [
    "worst6d.hist()"
   ]
  },
  {
   "cell_type": "markdown",
   "metadata": {},
   "source": [
    "### Remove low variance features:"
   ]
  },
  {
   "cell_type": "code",
   "execution_count": 59,
   "metadata": {},
   "outputs": [],
   "source": [
    "from sklearn.feature_selection import VarianceThreshold\n",
    "\n",
    "def variance_threshold_selector(data, threshold):\n",
    "    selector = VarianceThreshold(threshold)\n",
    "    selector.fit(data)\n",
    "    return data[data.columns[selector.get_support(indices=True)]]\n",
    "\n",
    "X_nbi_variance = variance_threshold_selector(X_nbi, (.999 * (1 - .999)))\n",
    "X_wli_variance = variance_threshold_selector(X_wli, (.999 * (1 - .999)))"
   ]
  },
  {
   "cell_type": "code",
   "execution_count": 60,
   "metadata": {},
   "outputs": [
    {
     "data": {
      "text/html": [
       "<div>\n",
       "<style scoped>\n",
       "    .dataframe tbody tr th:only-of-type {\n",
       "        vertical-align: middle;\n",
       "    }\n",
       "\n",
       "    .dataframe tbody tr th {\n",
       "        vertical-align: top;\n",
       "    }\n",
       "\n",
       "    .dataframe thead th {\n",
       "        text-align: right;\n",
       "    }\n",
       "</style>\n",
       "<table border=\"1\" class=\"dataframe\">\n",
       "  <thead>\n",
       "    <tr style=\"text-align: right;\">\n",
       "      <th></th>\n",
       "      <th>0</th>\n",
       "      <th>1</th>\n",
       "      <th>166</th>\n",
       "      <th>167</th>\n",
       "      <th>168</th>\n",
       "      <th>169</th>\n",
       "      <th>170</th>\n",
       "      <th>171</th>\n",
       "      <th>172</th>\n",
       "      <th>173</th>\n",
       "      <th>...</th>\n",
       "      <th>379</th>\n",
       "      <th>380</th>\n",
       "      <th>381</th>\n",
       "      <th>382</th>\n",
       "      <th>383</th>\n",
       "      <th>384</th>\n",
       "      <th>385</th>\n",
       "      <th>386</th>\n",
       "      <th>387</th>\n",
       "      <th>388</th>\n",
       "    </tr>\n",
       "  </thead>\n",
       "  <tbody>\n",
       "    <tr>\n",
       "      <th>0</th>\n",
       "      <td>127.990</td>\n",
       "      <td>3377.90</td>\n",
       "      <td>1234.0</td>\n",
       "      <td>2912.0</td>\n",
       "      <td>4517.0</td>\n",
       "      <td>282.0</td>\n",
       "      <td>13275.0</td>\n",
       "      <td>291.0</td>\n",
       "      <td>324.0</td>\n",
       "      <td>381.0</td>\n",
       "      <td>...</td>\n",
       "      <td>0.142740</td>\n",
       "      <td>0.138500</td>\n",
       "      <td>0.136680</td>\n",
       "      <td>0.129850</td>\n",
       "      <td>0.127170</td>\n",
       "      <td>0.125710</td>\n",
       "      <td>0.121650</td>\n",
       "      <td>0.117610</td>\n",
       "      <td>0.112150</td>\n",
       "      <td>0.109880</td>\n",
       "    </tr>\n",
       "    <tr>\n",
       "      <th>1</th>\n",
       "      <td>80.415</td>\n",
       "      <td>1852.10</td>\n",
       "      <td>1192.0</td>\n",
       "      <td>2636.0</td>\n",
       "      <td>3295.0</td>\n",
       "      <td>216.0</td>\n",
       "      <td>7538.0</td>\n",
       "      <td>336.0</td>\n",
       "      <td>349.0</td>\n",
       "      <td>354.0</td>\n",
       "      <td>...</td>\n",
       "      <td>0.115030</td>\n",
       "      <td>0.110870</td>\n",
       "      <td>0.101000</td>\n",
       "      <td>0.097140</td>\n",
       "      <td>0.091928</td>\n",
       "      <td>0.089336</td>\n",
       "      <td>0.083839</td>\n",
       "      <td>0.074439</td>\n",
       "      <td>0.073525</td>\n",
       "      <td>0.071423</td>\n",
       "    </tr>\n",
       "    <tr>\n",
       "      <th>2</th>\n",
       "      <td>106.160</td>\n",
       "      <td>1184.40</td>\n",
       "      <td>1994.0</td>\n",
       "      <td>4530.0</td>\n",
       "      <td>5941.0</td>\n",
       "      <td>417.0</td>\n",
       "      <td>14423.0</td>\n",
       "      <td>564.0</td>\n",
       "      <td>509.0</td>\n",
       "      <td>490.0</td>\n",
       "      <td>...</td>\n",
       "      <td>0.002268</td>\n",
       "      <td>0.001495</td>\n",
       "      <td>0.001030</td>\n",
       "      <td>0.000921</td>\n",
       "      <td>0.000784</td>\n",
       "      <td>0.000493</td>\n",
       "      <td>0.000469</td>\n",
       "      <td>0.000337</td>\n",
       "      <td>0.000275</td>\n",
       "      <td>0.000228</td>\n",
       "    </tr>\n",
       "    <tr>\n",
       "      <th>3</th>\n",
       "      <td>126.050</td>\n",
       "      <td>4752.20</td>\n",
       "      <td>1074.0</td>\n",
       "      <td>2850.0</td>\n",
       "      <td>4062.0</td>\n",
       "      <td>250.0</td>\n",
       "      <td>12076.0</td>\n",
       "      <td>300.0</td>\n",
       "      <td>307.0</td>\n",
       "      <td>321.0</td>\n",
       "      <td>...</td>\n",
       "      <td>0.133960</td>\n",
       "      <td>0.125020</td>\n",
       "      <td>0.122880</td>\n",
       "      <td>0.120240</td>\n",
       "      <td>0.115400</td>\n",
       "      <td>0.113350</td>\n",
       "      <td>0.110490</td>\n",
       "      <td>0.104470</td>\n",
       "      <td>0.103560</td>\n",
       "      <td>0.103110</td>\n",
       "    </tr>\n",
       "    <tr>\n",
       "      <th>4</th>\n",
       "      <td>109.130</td>\n",
       "      <td>999.39</td>\n",
       "      <td>959.0</td>\n",
       "      <td>2240.0</td>\n",
       "      <td>3733.0</td>\n",
       "      <td>241.0</td>\n",
       "      <td>9637.0</td>\n",
       "      <td>245.0</td>\n",
       "      <td>279.0</td>\n",
       "      <td>330.0</td>\n",
       "      <td>...</td>\n",
       "      <td>0.083135</td>\n",
       "      <td>0.074174</td>\n",
       "      <td>0.070089</td>\n",
       "      <td>0.063503</td>\n",
       "      <td>0.056808</td>\n",
       "      <td>0.048250</td>\n",
       "      <td>0.045501</td>\n",
       "      <td>0.039743</td>\n",
       "      <td>0.036455</td>\n",
       "      <td>0.032964</td>\n",
       "    </tr>\n",
       "  </tbody>\n",
       "</table>\n",
       "<p>5 rows × 116 columns</p>\n",
       "</div>"
      ],
      "text/plain": [
       "       0        1       166     167     168    169      170    171    172  \\\n",
       "0  127.990  3377.90  1234.0  2912.0  4517.0  282.0  13275.0  291.0  324.0   \n",
       "1   80.415  1852.10  1192.0  2636.0  3295.0  216.0   7538.0  336.0  349.0   \n",
       "2  106.160  1184.40  1994.0  4530.0  5941.0  417.0  14423.0  564.0  509.0   \n",
       "3  126.050  4752.20  1074.0  2850.0  4062.0  250.0  12076.0  300.0  307.0   \n",
       "4  109.130   999.39   959.0  2240.0  3733.0  241.0   9637.0  245.0  279.0   \n",
       "\n",
       "     173  ...       379       380       381       382       383       384  \\\n",
       "0  381.0  ...  0.142740  0.138500  0.136680  0.129850  0.127170  0.125710   \n",
       "1  354.0  ...  0.115030  0.110870  0.101000  0.097140  0.091928  0.089336   \n",
       "2  490.0  ...  0.002268  0.001495  0.001030  0.000921  0.000784  0.000493   \n",
       "3  321.0  ...  0.133960  0.125020  0.122880  0.120240  0.115400  0.113350   \n",
       "4  330.0  ...  0.083135  0.074174  0.070089  0.063503  0.056808  0.048250   \n",
       "\n",
       "        385       386       387       388  \n",
       "0  0.121650  0.117610  0.112150  0.109880  \n",
       "1  0.083839  0.074439  0.073525  0.071423  \n",
       "2  0.000469  0.000337  0.000275  0.000228  \n",
       "3  0.110490  0.104470  0.103560  0.103110  \n",
       "4  0.045501  0.039743  0.036455  0.032964  \n",
       "\n",
       "[5 rows x 116 columns]"
      ]
     },
     "execution_count": 60,
     "metadata": {},
     "output_type": "execute_result"
    }
   ],
   "source": [
    "X_nbi_variance.head(5)"
   ]
  },
  {
   "cell_type": "markdown",
   "metadata": {},
   "source": [
    "### X_nbi_variance = removing low variance features = 116 features has been remained"
   ]
  },
  {
   "cell_type": "code",
   "execution_count": 19,
   "metadata": {},
   "outputs": [
    {
     "name": "stdout",
     "output_type": "stream",
     "text": [
      "    Specs      Score\n",
      "64    238  27.355963\n",
      "16    180  24.747039\n",
      "24    188  24.417583\n",
      "82    256  22.436829\n",
      "89    263  22.144322\n",
      "4     168  21.806719\n",
      "27    191  20.842124\n",
      "26    190  20.831293\n",
      "8     172  20.653541\n",
      "12    176  20.600428\n",
      "20    184  20.125515\n",
      "15    179  19.582276\n",
      "78    252  19.565151\n",
      "60    234  19.258522\n",
      "5     169  18.391448\n",
      "71    245  17.615931\n",
      "9     173  16.617014\n",
      "2     166  16.610502\n",
      "14    178  16.553966\n",
      "28    192  16.251152\n"
     ]
    }
   ],
   "source": [
    "bestfeatures = SelectKBest(score_func=f_classif, k=10)\n",
    "fit = bestfeatures.fit(X_nbi_variance, y_nbi)\n",
    "dfscores = pd.DataFrame(fit.scores_)\n",
    "X_nbi_variance = variance_threshold_selector(X_nbi, (.999 * (1 - .999)))\n",
    "dfcolumns = pd.DataFrame(X_nbi_variance.columns)\n",
    "\n",
    "#concat two dataframes for better visualization \n",
    "featureScores = pd.concat([dfcolumns,dfscores],axis=1)\n",
    "featureScores.columns = ['Specs','Score']  #naming the dataframe columns\n",
    "print(featureScores.nlargest(20,'Score'))  #print k best features"
   ]
  },
  {
   "cell_type": "markdown",
   "metadata": {},
   "source": [
    "#### selected20X_nbi_v = top 20 features after removing low variance features"
   ]
  },
  {
   "cell_type": "code",
   "execution_count": 61,
   "metadata": {},
   "outputs": [],
   "source": [
    "selected20X_nbi_v = X_nbi.iloc[:, [238, 180, 188, 256, 263, 168,\n",
    "                                   191, 190, 172, 176, 184, 179,\n",
    "                                   252, 234, 169, 245, 173, 166, 178, 192]]"
   ]
  },
  {
   "cell_type": "markdown",
   "metadata": {},
   "source": [
    "#### selected6X_nbi_v = top 6 in data"
   ]
  },
  {
   "cell_type": "code",
   "execution_count": 62,
   "metadata": {},
   "outputs": [],
   "source": [
    "selected6X_nbi_v = X_nbi.iloc[:, [238, 180, 188, 256, 263, 168]]"
   ]
  },
  {
   "cell_type": "code",
   "execution_count": 63,
   "metadata": {},
   "outputs": [
    {
     "name": "stderr",
     "output_type": "stream",
     "text": [
      "<ipython-input-63-e33167917023>:3: UserWarning: To output multiple subplots, the figure containing the passed axes is being cleared\n",
      "  selected6X_nbi_v.hist(ax=ax)\n"
     ]
    },
    {
     "data": {
      "image/png": "[encoded data removed]",
      "text/plain": [
       "<Figure size 576x648 with 6 Axes>"
      ]
     },
     "metadata": {
      "needs_background": "light"
     },
     "output_type": "display_data"
    }
   ],
   "source": [
    "fig = plt.figure(figsize = (8,9))\n",
    "ax = fig.gca()\n",
    "selected6X_nbi_v.hist(ax=ax)\n",
    "plt.show()"
   ]
  },
  {
   "cell_type": "code",
   "execution_count": 64,
   "metadata": {
    "scrolled": true
   },
   "outputs": [
    {
     "data": {
      "text/html": [
       "<div>\n",
       "<style scoped>\n",
       "    .dataframe tbody tr th:only-of-type {\n",
       "        vertical-align: middle;\n",
       "    }\n",
       "\n",
       "    .dataframe tbody tr th {\n",
       "        vertical-align: top;\n",
       "    }\n",
       "\n",
       "    .dataframe thead th {\n",
       "        text-align: right;\n",
       "    }\n",
       "</style>\n",
       "<table border=\"1\" class=\"dataframe\">\n",
       "  <thead>\n",
       "    <tr style=\"text-align: right;\">\n",
       "      <th></th>\n",
       "      <th>238</th>\n",
       "      <th>180</th>\n",
       "      <th>188</th>\n",
       "      <th>256</th>\n",
       "      <th>263</th>\n",
       "      <th>168</th>\n",
       "    </tr>\n",
       "  </thead>\n",
       "  <tbody>\n",
       "    <tr>\n",
       "      <th>count</th>\n",
       "      <td>76.000000</td>\n",
       "      <td>76.000000</td>\n",
       "      <td>76.000000</td>\n",
       "      <td>76.000000</td>\n",
       "      <td>76.000000</td>\n",
       "      <td>76.000000</td>\n",
       "    </tr>\n",
       "    <tr>\n",
       "      <th>mean</th>\n",
       "      <td>3.200555</td>\n",
       "      <td>364.210526</td>\n",
       "      <td>159.381579</td>\n",
       "      <td>0.417039</td>\n",
       "      <td>0.090989</td>\n",
       "      <td>3092.447368</td>\n",
       "    </tr>\n",
       "    <tr>\n",
       "      <th>std</th>\n",
       "      <td>0.505570</td>\n",
       "      <td>258.717623</td>\n",
       "      <td>122.544138</td>\n",
       "      <td>0.150164</td>\n",
       "      <td>0.043708</td>\n",
       "      <td>2171.647709</td>\n",
       "    </tr>\n",
       "    <tr>\n",
       "      <th>min</th>\n",
       "      <td>0.668560</td>\n",
       "      <td>49.000000</td>\n",
       "      <td>13.000000</td>\n",
       "      <td>0.142730</td>\n",
       "      <td>0.025924</td>\n",
       "      <td>462.000000</td>\n",
       "    </tr>\n",
       "    <tr>\n",
       "      <th>25%</th>\n",
       "      <td>2.905600</td>\n",
       "      <td>145.250000</td>\n",
       "      <td>63.500000</td>\n",
       "      <td>0.311515</td>\n",
       "      <td>0.059737</td>\n",
       "      <td>1296.500000</td>\n",
       "    </tr>\n",
       "    <tr>\n",
       "      <th>50%</th>\n",
       "      <td>3.304200</td>\n",
       "      <td>308.500000</td>\n",
       "      <td>130.000000</td>\n",
       "      <td>0.388410</td>\n",
       "      <td>0.079750</td>\n",
       "      <td>2466.500000</td>\n",
       "    </tr>\n",
       "    <tr>\n",
       "      <th>75%</th>\n",
       "      <td>3.577800</td>\n",
       "      <td>519.000000</td>\n",
       "      <td>228.000000</td>\n",
       "      <td>0.533200</td>\n",
       "      <td>0.117460</td>\n",
       "      <td>4441.250000</td>\n",
       "    </tr>\n",
       "    <tr>\n",
       "      <th>max</th>\n",
       "      <td>3.875000</td>\n",
       "      <td>1106.000000</td>\n",
       "      <td>535.000000</td>\n",
       "      <td>0.766870</td>\n",
       "      <td>0.275320</td>\n",
       "      <td>9227.000000</td>\n",
       "    </tr>\n",
       "  </tbody>\n",
       "</table>\n",
       "</div>"
      ],
      "text/plain": [
       "             238          180         188        256        263          168\n",
       "count  76.000000    76.000000   76.000000  76.000000  76.000000    76.000000\n",
       "mean    3.200555   364.210526  159.381579   0.417039   0.090989  3092.447368\n",
       "std     0.505570   258.717623  122.544138   0.150164   0.043708  2171.647709\n",
       "min     0.668560    49.000000   13.000000   0.142730   0.025924   462.000000\n",
       "25%     2.905600   145.250000   63.500000   0.311515   0.059737  1296.500000\n",
       "50%     3.304200   308.500000  130.000000   0.388410   0.079750  2466.500000\n",
       "75%     3.577800   519.000000  228.000000   0.533200   0.117460  4441.250000\n",
       "max     3.875000  1106.000000  535.000000   0.766870   0.275320  9227.000000"
      ]
     },
     "execution_count": 64,
     "metadata": {},
     "output_type": "execute_result"
    }
   ],
   "source": [
    "selected6X_nbi_v.describe()"
   ]
  },
  {
   "cell_type": "markdown",
   "metadata": {},
   "source": [
    "## Recursive feature elimination"
   ]
  },
  {
   "cell_type": "markdown",
   "metadata": {},
   "source": [
    "### Random forest. 1."
   ]
  },
  {
   "cell_type": "code",
   "execution_count": 68,
   "metadata": {},
   "outputs": [],
   "source": [
    "from sklearn.ensemble import RandomForestClassifier\n",
    "from sklearn.feature_selection import RFECV\n",
    "\n",
    "#randomforst using X_nbi_variance as input data\n",
    "model = RFECV(RandomForestClassifier(), scoring='accuracy')\n",
    "model.fit(X_nbi_variance, y_nbi)"
   ]
  },
  {
   "cell_type": "code",
   "execution_count": 25,
   "metadata": {},
   "outputs": [
    {
     "name": "stdout",
     "output_type": "stream",
     "text": [
      "Optimal number of features: 33\n"
     ]
    }
   ],
   "source": [
    "print(\"Optimal number of features: {}\".format(model.n_features_))"
   ]
  },
  {
   "cell_type": "code",
   "execution_count": 169,
   "metadata": {},
   "outputs": [
    {
     "data": {
      "text/plain": [
       "array([ True, False,  True,  True, False, False, False, False, False,\n",
       "        True, False, False, False, False, False, False,  True, False,\n",
       "       False, False, False, False, False,  True,  True, False,  True,\n",
       "       False, False, False, False, False, False, False, False, False,\n",
       "       False, False, False, False, False,  True,  True,  True, False,\n",
       "       False, False, False, False, False,  True,  True, False,  True,\n",
       "        True, False,  True, False, False, False,  True, False, False,\n",
       "       False,  True,  True, False,  True,  True,  True, False,  True,\n",
       "       False, False, False, False, False, False,  True,  True,  True,\n",
       "       False,  True, False, False,  True, False, False, False,  True,\n",
       "        True, False, False, False, False, False, False, False, False,\n",
       "       False, False, False, False, False, False, False, False, False,\n",
       "       False, False, False, False, False, False, False, False])"
      ]
     },
     "execution_count": 169,
     "metadata": {},
     "output_type": "execute_result"
    }
   ],
   "source": [
    "model.support_"
   ]
  },
  {
   "cell_type": "code",
   "execution_count": 26,
   "metadata": {},
   "outputs": [
    {
     "data": {
      "text/html": [
       "<div>\n",
       "<style scoped>\n",
       "    .dataframe tbody tr th:only-of-type {\n",
       "        vertical-align: middle;\n",
       "    }\n",
       "\n",
       "    .dataframe tbody tr th {\n",
       "        vertical-align: top;\n",
       "    }\n",
       "\n",
       "    .dataframe thead th {\n",
       "        text-align: right;\n",
       "    }\n",
       "</style>\n",
       "<table border=\"1\" class=\"dataframe\">\n",
       "  <thead>\n",
       "    <tr style=\"text-align: right;\">\n",
       "      <th></th>\n",
       "      <th>0</th>\n",
       "      <th>166</th>\n",
       "      <th>168</th>\n",
       "      <th>170</th>\n",
       "      <th>172</th>\n",
       "      <th>173</th>\n",
       "      <th>180</th>\n",
       "      <th>184</th>\n",
       "      <th>188</th>\n",
       "      <th>191</th>\n",
       "      <th>...</th>\n",
       "      <th>252</th>\n",
       "      <th>253</th>\n",
       "      <th>254</th>\n",
       "      <th>255</th>\n",
       "      <th>256</th>\n",
       "      <th>258</th>\n",
       "      <th>259</th>\n",
       "      <th>261</th>\n",
       "      <th>263</th>\n",
       "      <th>264</th>\n",
       "    </tr>\n",
       "  </thead>\n",
       "  <tbody>\n",
       "    <tr>\n",
       "      <th>1</th>\n",
       "      <td>127.990</td>\n",
       "      <td>1234.0</td>\n",
       "      <td>4517.0</td>\n",
       "      <td>13275.0</td>\n",
       "      <td>324.0</td>\n",
       "      <td>381.0</td>\n",
       "      <td>545.0</td>\n",
       "      <td>554.0</td>\n",
       "      <td>234.0</td>\n",
       "      <td>501.0</td>\n",
       "      <td>...</td>\n",
       "      <td>0.040217</td>\n",
       "      <td>0.79440</td>\n",
       "      <td>97.913</td>\n",
       "      <td>50.985</td>\n",
       "      <td>0.52072</td>\n",
       "      <td>2.6022</td>\n",
       "      <td>0.108060</td>\n",
       "      <td>0.55177</td>\n",
       "      <td>0.050691</td>\n",
       "      <td>0.79627</td>\n",
       "    </tr>\n",
       "    <tr>\n",
       "      <th>2</th>\n",
       "      <td>80.415</td>\n",
       "      <td>1192.0</td>\n",
       "      <td>3295.0</td>\n",
       "      <td>7538.0</td>\n",
       "      <td>349.0</td>\n",
       "      <td>354.0</td>\n",
       "      <td>517.0</td>\n",
       "      <td>628.0</td>\n",
       "      <td>207.0</td>\n",
       "      <td>478.0</td>\n",
       "      <td>...</td>\n",
       "      <td>0.088054</td>\n",
       "      <td>0.86636</td>\n",
       "      <td>57.655</td>\n",
       "      <td>33.595</td>\n",
       "      <td>0.58269</td>\n",
       "      <td>2.9911</td>\n",
       "      <td>0.179080</td>\n",
       "      <td>0.67862</td>\n",
       "      <td>0.109230</td>\n",
       "      <td>0.86569</td>\n",
       "    </tr>\n",
       "    <tr>\n",
       "      <th>4</th>\n",
       "      <td>106.160</td>\n",
       "      <td>1994.0</td>\n",
       "      <td>5941.0</td>\n",
       "      <td>14423.0</td>\n",
       "      <td>509.0</td>\n",
       "      <td>490.0</td>\n",
       "      <td>818.0</td>\n",
       "      <td>977.0</td>\n",
       "      <td>349.0</td>\n",
       "      <td>815.0</td>\n",
       "      <td>...</td>\n",
       "      <td>0.105120</td>\n",
       "      <td>0.85285</td>\n",
       "      <td>76.973</td>\n",
       "      <td>30.155</td>\n",
       "      <td>0.39177</td>\n",
       "      <td>4.8585</td>\n",
       "      <td>0.210790</td>\n",
       "      <td>0.83878</td>\n",
       "      <td>0.128200</td>\n",
       "      <td>0.85257</td>\n",
       "    </tr>\n",
       "    <tr>\n",
       "      <th>7</th>\n",
       "      <td>126.050</td>\n",
       "      <td>1074.0</td>\n",
       "      <td>4062.0</td>\n",
       "      <td>12076.0</td>\n",
       "      <td>307.0</td>\n",
       "      <td>321.0</td>\n",
       "      <td>435.0</td>\n",
       "      <td>540.0</td>\n",
       "      <td>195.0</td>\n",
       "      <td>432.0</td>\n",
       "      <td>...</td>\n",
       "      <td>0.039566</td>\n",
       "      <td>0.86593</td>\n",
       "      <td>97.407</td>\n",
       "      <td>56.964</td>\n",
       "      <td>0.58480</td>\n",
       "      <td>1.7798</td>\n",
       "      <td>0.086192</td>\n",
       "      <td>0.30082</td>\n",
       "      <td>0.050775</td>\n",
       "      <td>0.86701</td>\n",
       "    </tr>\n",
       "    <tr>\n",
       "      <th>8</th>\n",
       "      <td>109.130</td>\n",
       "      <td>959.0</td>\n",
       "      <td>3733.0</td>\n",
       "      <td>9637.0</td>\n",
       "      <td>279.0</td>\n",
       "      <td>330.0</td>\n",
       "      <td>464.0</td>\n",
       "      <td>475.0</td>\n",
       "      <td>204.0</td>\n",
       "      <td>410.0</td>\n",
       "      <td>...</td>\n",
       "      <td>0.100740</td>\n",
       "      <td>0.86298</td>\n",
       "      <td>82.827</td>\n",
       "      <td>28.916</td>\n",
       "      <td>0.34911</td>\n",
       "      <td>3.9117</td>\n",
       "      <td>0.218270</td>\n",
       "      <td>0.35482</td>\n",
       "      <td>0.129190</td>\n",
       "      <td>0.86081</td>\n",
       "    </tr>\n",
       "  </tbody>\n",
       "</table>\n",
       "<p>5 rows × 33 columns</p>\n",
       "</div>"
      ],
      "text/plain": [
       "       0       166     168      170    172    173    180    184    188    191  \\\n",
       "1  127.990  1234.0  4517.0  13275.0  324.0  381.0  545.0  554.0  234.0  501.0   \n",
       "2   80.415  1192.0  3295.0   7538.0  349.0  354.0  517.0  628.0  207.0  478.0   \n",
       "4  106.160  1994.0  5941.0  14423.0  509.0  490.0  818.0  977.0  349.0  815.0   \n",
       "7  126.050  1074.0  4062.0  12076.0  307.0  321.0  435.0  540.0  195.0  432.0   \n",
       "8  109.130   959.0  3733.0   9637.0  279.0  330.0  464.0  475.0  204.0  410.0   \n",
       "\n",
       "   ...       252      253     254     255      256     258       259      261  \\\n",
       "1  ...  0.040217  0.79440  97.913  50.985  0.52072  2.6022  0.108060  0.55177   \n",
       "2  ...  0.088054  0.86636  57.655  33.595  0.58269  2.9911  0.179080  0.67862   \n",
       "4  ...  0.105120  0.85285  76.973  30.155  0.39177  4.8585  0.210790  0.83878   \n",
       "7  ...  0.039566  0.86593  97.407  56.964  0.58480  1.7798  0.086192  0.30082   \n",
       "8  ...  0.100740  0.86298  82.827  28.916  0.34911  3.9117  0.218270  0.35482   \n",
       "\n",
       "        263      264  \n",
       "1  0.050691  0.79627  \n",
       "2  0.109230  0.86569  \n",
       "4  0.128200  0.85257  \n",
       "7  0.050775  0.86701  \n",
       "8  0.129190  0.86081  \n",
       "\n",
       "[5 rows x 33 columns]"
      ]
     },
     "execution_count": 26,
     "metadata": {},
     "output_type": "execute_result"
    }
   ],
   "source": [
    "bestforest_X_nbi_v = X_nbi_variance[X_nbi_variance.columns[model.get_support(indices=True)]]\n",
    "bestforest_X_nbi_v.head(5)"
   ]
  },
  {
   "cell_type": "markdown",
   "metadata": {},
   "source": [
    "### Random Forest. 2."
   ]
  },
  {
   "cell_type": "code",
   "execution_count": 75,
   "metadata": {},
   "outputs": [
    {
     "data": {
      "text/plain": [
       "RFECV(estimator=RandomForestClassifier(), scoring='accuracy')"
      ]
     },
     "execution_count": 75,
     "metadata": {},
     "output_type": "execute_result"
    }
   ],
   "source": [
    "#randomforst using selected20X_nbi_v as input data\n",
    "model = RFECV(RandomForestClassifier(), scoring='accuracy')\n",
    "model.fit(selected20X_nbi_v, y_nbi)"
   ]
  },
  {
   "cell_type": "code",
   "execution_count": 76,
   "metadata": {},
   "outputs": [
    {
     "name": "stdout",
     "output_type": "stream",
     "text": [
      "Optimal number of features: 9\n"
     ]
    }
   ],
   "source": [
    "print(\"Optimal number of features: {}\".format(model.n_features_))"
   ]
  },
  {
   "cell_type": "code",
   "execution_count": 77,
   "metadata": {},
   "outputs": [
    {
     "data": {
      "text/html": [
       "<div>\n",
       "<style scoped>\n",
       "    .dataframe tbody tr th:only-of-type {\n",
       "        vertical-align: middle;\n",
       "    }\n",
       "\n",
       "    .dataframe tbody tr th {\n",
       "        vertical-align: top;\n",
       "    }\n",
       "\n",
       "    .dataframe thead th {\n",
       "        text-align: right;\n",
       "    }\n",
       "</style>\n",
       "<table border=\"1\" class=\"dataframe\">\n",
       "  <thead>\n",
       "    <tr style=\"text-align: right;\">\n",
       "      <th></th>\n",
       "      <th>238</th>\n",
       "      <th>180</th>\n",
       "      <th>188</th>\n",
       "      <th>256</th>\n",
       "      <th>263</th>\n",
       "      <th>190</th>\n",
       "      <th>252</th>\n",
       "      <th>234</th>\n",
       "      <th>166</th>\n",
       "    </tr>\n",
       "  </thead>\n",
       "  <tbody>\n",
       "    <tr>\n",
       "      <th>0</th>\n",
       "      <td>3.5778</td>\n",
       "      <td>545.0</td>\n",
       "      <td>234.0</td>\n",
       "      <td>0.52072</td>\n",
       "      <td>0.050691</td>\n",
       "      <td>490.0</td>\n",
       "      <td>0.040217</td>\n",
       "      <td>0.43163</td>\n",
       "      <td>1234.0</td>\n",
       "    </tr>\n",
       "    <tr>\n",
       "      <th>1</th>\n",
       "      <td>3.3750</td>\n",
       "      <td>517.0</td>\n",
       "      <td>207.0</td>\n",
       "      <td>0.58269</td>\n",
       "      <td>0.109230</td>\n",
       "      <td>543.0</td>\n",
       "      <td>0.088054</td>\n",
       "      <td>0.48512</td>\n",
       "      <td>1192.0</td>\n",
       "    </tr>\n",
       "    <tr>\n",
       "      <th>2</th>\n",
       "      <td>3.1494</td>\n",
       "      <td>818.0</td>\n",
       "      <td>349.0</td>\n",
       "      <td>0.39177</td>\n",
       "      <td>0.128200</td>\n",
       "      <td>817.0</td>\n",
       "      <td>0.105120</td>\n",
       "      <td>0.29150</td>\n",
       "      <td>1994.0</td>\n",
       "    </tr>\n",
       "    <tr>\n",
       "      <th>3</th>\n",
       "      <td>3.0306</td>\n",
       "      <td>435.0</td>\n",
       "      <td>195.0</td>\n",
       "      <td>0.58480</td>\n",
       "      <td>0.050775</td>\n",
       "      <td>433.0</td>\n",
       "      <td>0.039566</td>\n",
       "      <td>0.50987</td>\n",
       "      <td>1074.0</td>\n",
       "    </tr>\n",
       "    <tr>\n",
       "      <th>4</th>\n",
       "      <td>3.0244</td>\n",
       "      <td>464.0</td>\n",
       "      <td>204.0</td>\n",
       "      <td>0.34911</td>\n",
       "      <td>0.129190</td>\n",
       "      <td>389.0</td>\n",
       "      <td>0.100740</td>\n",
       "      <td>0.28086</td>\n",
       "      <td>959.0</td>\n",
       "    </tr>\n",
       "  </tbody>\n",
       "</table>\n",
       "</div>"
      ],
      "text/plain": [
       "      238    180    188      256       263    190       252      234     166\n",
       "0  3.5778  545.0  234.0  0.52072  0.050691  490.0  0.040217  0.43163  1234.0\n",
       "1  3.3750  517.0  207.0  0.58269  0.109230  543.0  0.088054  0.48512  1192.0\n",
       "2  3.1494  818.0  349.0  0.39177  0.128200  817.0  0.105120  0.29150  1994.0\n",
       "3  3.0306  435.0  195.0  0.58480  0.050775  433.0  0.039566  0.50987  1074.0\n",
       "4  3.0244  464.0  204.0  0.34911  0.129190  389.0  0.100740  0.28086   959.0"
      ]
     },
     "execution_count": 77,
     "metadata": {},
     "output_type": "execute_result"
    }
   ],
   "source": [
    "bestforest_X_nbi_v_20 = selected20X_nbi_v[selected20X_nbi_v.columns[model.get_support(indices=True)]]\n",
    "bestforest_X_nbi_v_20.head(5)"
   ]
  },
  {
   "cell_type": "code",
   "execution_count": 31,
   "metadata": {},
   "outputs": [],
   "source": [
    "bestforest_X_nbi_v_20 = X_nbi.iloc[:, [238, 180, 188, 256, 263, 190, 252, 234, 166]]"
   ]
  },
  {
   "cell_type": "markdown",
   "metadata": {},
   "source": [
    "### SVC"
   ]
  },
  {
   "cell_type": "code",
   "execution_count": 36,
   "metadata": {},
   "outputs": [
    {
     "data": {
      "text/plain": [
       "RFECV(cv=StratifiedKFold(n_splits=2, random_state=None, shuffle=False),\n",
       "      estimator=SVC(kernel='linear'), scoring='accuracy')"
      ]
     },
     "execution_count": 36,
     "metadata": {},
     "output_type": "execute_result"
    }
   ],
   "source": [
    "from sklearn.svm import SVC\n",
    "from sklearn.model_selection import StratifiedKFold\n",
    "from sklearn.datasets import make_classification\n",
    "\n",
    "svc = SVC(kernel=\"linear\")\n",
    "rfecv = RFECV(estimator=svc, step=1, cv=StratifiedKFold(2), scoring='accuracy')\n",
    "rfecv.fit(selected20X_nbi_v, y_nbi)"
   ]
  },
  {
   "cell_type": "code",
   "execution_count": 37,
   "metadata": {},
   "outputs": [
    {
     "name": "stdout",
     "output_type": "stream",
     "text": [
      "Optimal number of features: 9\n"
     ]
    }
   ],
   "source": [
    "print(\"Optimal number of features: {}\".format(rfecv.n_features_))"
   ]
  },
  {
   "cell_type": "code",
   "execution_count": 38,
   "metadata": {},
   "outputs": [
    {
     "data": {
      "text/html": [
       "<div>\n",
       "<style scoped>\n",
       "    .dataframe tbody tr th:only-of-type {\n",
       "        vertical-align: middle;\n",
       "    }\n",
       "\n",
       "    .dataframe tbody tr th {\n",
       "        vertical-align: top;\n",
       "    }\n",
       "\n",
       "    .dataframe thead th {\n",
       "        text-align: right;\n",
       "    }\n",
       "</style>\n",
       "<table border=\"1\" class=\"dataframe\">\n",
       "  <thead>\n",
       "    <tr style=\"text-align: right;\">\n",
       "      <th></th>\n",
       "      <th>238</th>\n",
       "      <th>188</th>\n",
       "      <th>256</th>\n",
       "      <th>168</th>\n",
       "      <th>190</th>\n",
       "      <th>176</th>\n",
       "      <th>234</th>\n",
       "      <th>245</th>\n",
       "      <th>178</th>\n",
       "    </tr>\n",
       "  </thead>\n",
       "  <tbody>\n",
       "    <tr>\n",
       "      <th>1</th>\n",
       "      <td>3.5778</td>\n",
       "      <td>234.0</td>\n",
       "      <td>0.52072</td>\n",
       "      <td>4517.0</td>\n",
       "      <td>490.0</td>\n",
       "      <td>451.0</td>\n",
       "      <td>0.43163</td>\n",
       "      <td>0.45838</td>\n",
       "      <td>422.0</td>\n",
       "    </tr>\n",
       "    <tr>\n",
       "      <th>2</th>\n",
       "      <td>3.3750</td>\n",
       "      <td>207.0</td>\n",
       "      <td>0.58269</td>\n",
       "      <td>3295.0</td>\n",
       "      <td>543.0</td>\n",
       "      <td>438.0</td>\n",
       "      <td>0.48512</td>\n",
       "      <td>0.56557</td>\n",
       "      <td>341.0</td>\n",
       "    </tr>\n",
       "    <tr>\n",
       "      <th>4</th>\n",
       "      <td>3.1494</td>\n",
       "      <td>349.0</td>\n",
       "      <td>0.39177</td>\n",
       "      <td>5941.0</td>\n",
       "      <td>817.0</td>\n",
       "      <td>706.0</td>\n",
       "      <td>0.29150</td>\n",
       "      <td>0.33821</td>\n",
       "      <td>607.0</td>\n",
       "    </tr>\n",
       "    <tr>\n",
       "      <th>7</th>\n",
       "      <td>3.0306</td>\n",
       "      <td>195.0</td>\n",
       "      <td>0.58480</td>\n",
       "      <td>4062.0</td>\n",
       "      <td>433.0</td>\n",
       "      <td>477.0</td>\n",
       "      <td>0.50987</td>\n",
       "      <td>0.56420</td>\n",
       "      <td>504.0</td>\n",
       "    </tr>\n",
       "    <tr>\n",
       "      <th>8</th>\n",
       "      <td>3.0244</td>\n",
       "      <td>204.0</td>\n",
       "      <td>0.34911</td>\n",
       "      <td>3733.0</td>\n",
       "      <td>389.0</td>\n",
       "      <td>367.0</td>\n",
       "      <td>0.28086</td>\n",
       "      <td>0.28995</td>\n",
       "      <td>319.0</td>\n",
       "    </tr>\n",
       "  </tbody>\n",
       "</table>\n",
       "</div>"
      ],
      "text/plain": [
       "      238    188      256     168    190    176      234      245    178\n",
       "1  3.5778  234.0  0.52072  4517.0  490.0  451.0  0.43163  0.45838  422.0\n",
       "2  3.3750  207.0  0.58269  3295.0  543.0  438.0  0.48512  0.56557  341.0\n",
       "4  3.1494  349.0  0.39177  5941.0  817.0  706.0  0.29150  0.33821  607.0\n",
       "7  3.0306  195.0  0.58480  4062.0  433.0  477.0  0.50987  0.56420  504.0\n",
       "8  3.0244  204.0  0.34911  3733.0  389.0  367.0  0.28086  0.28995  319.0"
      ]
     },
     "execution_count": 38,
     "metadata": {},
     "output_type": "execute_result"
    }
   ],
   "source": [
    "selectfrommodel_20 = selected20X_nbi_v[selected20X_nbi_v.columns[rfecv.get_support(indices=True)]]\n",
    "selectfrommodel_20.head(5)"
   ]
  },
  {
   "cell_type": "code",
   "execution_count": 39,
   "metadata": {},
   "outputs": [],
   "source": [
    "svc_selected20X_nbi_v = X_nbi.iloc[:, [238, 188, 256, 168, 190, 176, 234, 245, 178]]"
   ]
  },
  {
   "cell_type": "markdown",
   "metadata": {},
   "source": [
    "### one best feature:"
   ]
  },
  {
   "cell_type": "code",
   "execution_count": 33,
   "metadata": {},
   "outputs": [],
   "source": [
    "main_feature = X_nbi.iloc[:, [238]]"
   ]
  },
  {
   "cell_type": "markdown",
   "metadata": {},
   "source": [
    "### select one best feature for each label individually"
   ]
  },
  {
   "cell_type": "code",
   "execution_count": 34,
   "metadata": {},
   "outputs": [],
   "source": [
    "test_X_nbi_2 = X_nbi.iloc[:, [238, 188, 256]]"
   ]
  },
  {
   "cell_type": "markdown",
   "metadata": {},
   "source": [
    "### select mutual features of \"best 6 features in general\" and \"best 6 features considering binary classification\""
   ]
  },
  {
   "cell_type": "code",
   "execution_count": null,
   "metadata": {},
   "outputs": [],
   "source": [
    "mutual_67 = X_nbi.iloc[:, [238, 256, 188, 180]]"
   ]
  },
  {
   "cell_type": "markdown",
   "metadata": {},
   "source": [
    "### List of all the extracted features"
   ]
  },
  {
   "cell_type": "code",
   "execution_count": 79,
   "metadata": {},
   "outputs": [],
   "source": [
    "dataframes = [X_nbi,\n",
    "              X_nbi_variance,\n",
    "              bestforest_X_nbi_v,\n",
    "              selected20X_nbi_v,\n",
    "              bestforest_X_nbi_v_20,\n",
    "              selected6X_nbi_v,\n",
    "              test_X_nbi,\n",
    "              test_X_nbi_2,\n",
    "              mutual_67,\n",
    "              main_feature,\n",
    "              svc_selected20X_nbi_v]\n",
    "names = ['NBI: 466F',\n",
    "        'Remove low variance: 116F',\n",
    "        'bestforest from 116F: 30F',\n",
    "        'Top 20 from 116F',\n",
    "        'bestforest from top 20',\n",
    "        'Top 6 from 116F',\n",
    "        'Top 6 based on labels',\n",
    "        'Top 3 based on labels',\n",
    "        'Top 4 (same in 6-7)',\n",
    "        'one best feature',\n",
    "        'new data']"
   ]
  },
  {
   "cell_type": "code",
   "execution_count": 78,
   "metadata": {},
   "outputs": [],
   "source": []
  },
  {
   "cell_type": "markdown",
   "metadata": {},
   "source": [
    "**Classifiers**"
   ]
  },
  {
   "cell_type": "code",
   "execution_count": 32,
   "metadata": {},
   "outputs": [],
   "source": [
    "from sklearn.naive_bayes import GaussianNB\n",
    "from sklearn.tree import DecisionTreeClassifier\n",
    "from sklearn.neighbors import KNeighborsClassifier\n",
    "from sklearn.metrics import accuracy_score\n",
    "from sklearn.model_selection import cross_val_score"
   ]
  },
  {
   "cell_type": "markdown",
   "metadata": {},
   "source": [
    "### Naive Bayes Classifier:"
   ]
  },
  {
   "cell_type": "code",
   "execution_count": 42,
   "metadata": {},
   "outputs": [],
   "source": [
    "from prettytable import PrettyTable"
   ]
  },
  {
   "cell_type": "code",
   "execution_count": 43,
   "metadata": {},
   "outputs": [],
   "source": [
    "#Naive Bayes Classifier\n",
    "clf1 = GaussianNB()"
   ]
  },
  {
   "cell_type": "code",
   "execution_count": 44,
   "metadata": {},
   "outputs": [
    {
     "name": "stdout",
     "output_type": "stream",
     "text": [
      "+---------------------------+------+------+------+------+------+------+\n",
      "|         Dataframe         | Run1 | Run2 | Run3 | Run4 | Run5 | Mean |\n",
      "+---------------------------+------+------+------+------+------+------+\n",
      "|         NBI: 466F         | 0.56 | 0.47 | 0.47 | 0.47 | 0.4  | 0.47 |\n",
      "| Remove low variance: 116F | 0.56 | 0.47 | 0.47 | 0.47 | 0.4  | 0.47 |\n",
      "| bestforest from 116F: 30F | 0.75 | 0.67 | 0.47 | 0.27 | 0.4  | 0.51 |\n",
      "|      Top 20 from 116F     | 0.62 | 0.6  | 0.47 | 0.47 | 0.4  | 0.51 |\n",
      "|   bestforest from top 20  | 0.75 | 0.73 | 0.87 | 0.47 | 0.33 | 0.63 |\n",
      "|      Top 6 from 116F      | 0.69 | 0.73 | 0.6  | 0.53 | 0.47 | 0.6  |\n",
      "|   Top 6 based on labels   | 0.75 | 0.67 | 0.8  | 0.67 | 0.4  | 0.66 |\n",
      "|   Top 3 based on labels   | 0.81 | 0.73 | 0.8  | 0.73 | 0.4  | 0.7  |\n",
      "|    Top 4 (same in 6-7)    | 0.69 | 0.67 | 0.67 | 0.6  | 0.4  | 0.6  |\n",
      "|      one best feature     | 0.69 | 0.6  | 0.73 | 0.93 | 0.53 | 0.7  |\n",
      "|          new data         | 0.62 | 0.6  | 0.53 | 0.33 | 0.4  | 0.5  |\n",
      "+---------------------------+------+------+------+------+------+------+\n"
     ]
    }
   ],
   "source": [
    "table = PrettyTable(field_names=['Dataframe', 'Run1', 'Run2', 'Run3', 'Run4', 'Run5', 'Mean'])\n",
    "\n",
    "for i, df in enumerate(dataframes):\n",
    "    scores = cross_val_score(clf1, df, y_nbi, cv=5)\n",
    "    mean = round(scores.mean(), 2)\n",
    "    table.add_row([names[i], round(scores[0], 2), round(scores[1], 2), round(scores[2], 2), round(scores[3], 2), round(scores[4], 2), mean])\n",
    "    \n",
    "print(table)"
   ]
  },
  {
   "cell_type": "markdown",
   "metadata": {},
   "source": [
    "### K Neighbors Classifier:"
   ]
  },
  {
   "cell_type": "code",
   "execution_count": 65,
   "metadata": {},
   "outputs": [
    {
     "name": "stdout",
     "output_type": "stream",
     "text": [
      "{'n_neighbors': 7, 'weights': 'uniform'}\n",
      "{'n_neighbors': 7, 'weights': 'uniform'}\n",
      "{'n_neighbors': 9, 'weights': 'distance'}\n",
      "{'n_neighbors': 13, 'weights': 'uniform'}\n",
      "{'n_neighbors': 11, 'weights': 'distance'}\n",
      "{'n_neighbors': 11, 'weights': 'uniform'}\n",
      "{'n_neighbors': 6, 'weights': 'uniform'}\n",
      "{'n_neighbors': 9, 'weights': 'uniform'}\n",
      "{'n_neighbors': 6, 'weights': 'uniform'}\n",
      "{'n_neighbors': 9, 'weights': 'uniform'}\n",
      "{'n_neighbors': 11, 'weights': 'uniform'}\n"
     ]
    }
   ],
   "source": [
    "from sklearn.model_selection import GridSearchCV\n",
    "knn = KNeighborsClassifier()\n",
    "k_range = list(range(1,15))\n",
    "weight_options = [\"uniform\", \"distance\"]\n",
    "param_grid = dict(n_neighbors = k_range, weights = weight_options)\n",
    "grid = GridSearchCV(knn, param_grid, cv = 10, scoring = 'accuracy')\n",
    "for df in dataframes:\n",
    "    grid.fit(df,y_nbi)\n",
    "    print (grid.best_params_)"
   ]
  },
  {
   "cell_type": "code",
   "execution_count": 66,
   "metadata": {},
   "outputs": [
    {
     "name": "stdout",
     "output_type": "stream",
     "text": [
      "+---------------------------+------+------+------+------+------+------+\n",
      "|         Dataframe         | Run1 | Run2 | Run3 | Run4 | Run5 | Mean |\n",
      "+---------------------------+------+------+------+------+------+------+\n",
      "|         NBI: 466F         | 0.56 | 0.67 | 0.53 | 0.4  | 0.47 | 0.53 |\n",
      "| Remove low variance: 116F | 0.56 | 0.67 | 0.53 | 0.4  | 0.47 | 0.53 |\n",
      "| bestforest from 116F: 30F | 0.62 | 0.6  | 0.6  | 0.53 | 0.53 | 0.58 |\n",
      "|      Top 20 from 116F     | 0.62 | 0.67 | 0.6  | 0.53 | 0.4  | 0.56 |\n",
      "|   bestforest from top 20  | 0.69 | 0.67 | 0.67 | 0.6  | 0.47 | 0.62 |\n",
      "|      Top 6 from 116F      | 0.62 | 0.6  | 0.6  | 0.53 | 0.33 | 0.54 |\n",
      "|   Top 6 based on labels   | 0.56 | 0.8  | 0.6  | 0.6  | 0.53 | 0.62 |\n",
      "|   Top 3 based on labels   | 0.69 | 0.8  | 0.67 | 0.53 | 0.6  | 0.66 |\n",
      "|    Top 4 (same in 6-7)    | 0.56 | 0.8  | 0.6  | 0.6  | 0.53 | 0.62 |\n",
      "|      one best feature     | 0.62 | 0.67 | 0.6  | 0.8  | 0.53 | 0.64 |\n",
      "|          new data         | 0.62 | 0.6  | 0.6  | 0.53 | 0.33 | 0.54 |\n",
      "+---------------------------+------+------+------+------+------+------+\n"
     ]
    }
   ],
   "source": [
    "table = PrettyTable(field_names=['Dataframe', 'Run1', 'Run2', 'Run3', 'Run4', 'Run5', 'Mean'])\n",
    "N = [7, 7, 9, 13, 11, 11, 6, 9, 6, 9, 11]\n",
    "for i, df in enumerate(dataframes):\n",
    "    clf2_2 = KNeighborsClassifier(n_neighbors=N[i])\n",
    "    scores = cross_val_score(clf2_2, df, y_nbi, cv=5)\n",
    "    mean = round(scores.mean(), 2)\n",
    "    table.add_row([names[i], round(scores[0], 2), round(scores[1], 2), round(scores[2], 2), round(scores[3], 2), round(scores[4], 2), mean])\n",
    "    \n",
    "print(table)"
   ]
  },
  {
   "cell_type": "code",
   "execution_count": 279,
   "metadata": {},
   "outputs": [
    {
     "name": "stdout",
     "output_type": "stream",
     "text": [
      "+---------------------------+------+------+------+------+------+------+\n",
      "|         Dataframe         | Run1 | Run2 | Run3 | Run4 | Run5 | Mean |\n",
      "+---------------------------+------+------+------+------+------+------+\n",
      "|         NBI: 466F         | 0.5  | 0.53 | 0.53 | 0.47 | 0.4  | 0.49 |\n",
      "| Remove low variance: 116F | 0.5  | 0.53 | 0.53 | 0.47 | 0.4  | 0.49 |\n",
      "| bestforest from 116F: 30F | 0.5  | 0.73 | 0.53 | 0.67 | 0.6  | 0.61 |\n",
      "|      Top 20 from 116F     | 0.5  | 0.47 | 0.6  | 0.6  | 0.4  | 0.51 |\n",
      "|   bestforest from top 20  | 0.5  | 0.6  | 0.6  | 0.6  | 0.47 | 0.55 |\n",
      "|      Top 6 from 116F      | 0.38 | 0.53 | 0.47 | 0.53 | 0.47 | 0.48 |\n",
      "|   Top 6 based on labels   | 0.62 | 0.6  | 0.6  | 0.67 | 0.47 | 0.59 |\n",
      "|   Top 3 based on labels   | 0.44 | 0.4  | 0.6  | 0.67 | 0.53 | 0.53 |\n",
      "|    Top 4 (same in 6-7)    | 0.5  | 0.6  | 0.6  | 0.6  | 0.6  | 0.58 |\n",
      "|      one best feature     | 0.62 | 0.6  | 0.6  | 0.67 | 0.47 | 0.59 |\n",
      "|          new data         | 0.44 | 0.4  | 0.53 | 0.47 | 0.47 | 0.46 |\n",
      "+---------------------------+------+------+------+------+------+------+\n"
     ]
    }
   ],
   "source": [
    "#N=3\n",
    "table = PrettyTable(field_names=['Dataframe', 'Run1', 'Run2', 'Run3', 'Run4', 'Run5', 'Mean'])\n",
    "\n",
    "for i, df in enumerate(dataframes):\n",
    "    clf2 = KNeighborsClassifier(n_neighbors=3)\n",
    "    scores = cross_val_score(clf2, df, y_nbi, cv=5)\n",
    "    mean = round(scores.mean(), 2)\n",
    "    table.add_row([names[i], round(scores[0], 2), round(scores[1], 2), round(scores[2], 2), round(scores[3], 2), round(scores[4], 2), mean])\n",
    "    \n",
    "print(table)"
   ]
  },
  {
   "cell_type": "markdown",
   "metadata": {},
   "source": [
    "### Decision Tree Classifier:"
   ]
  },
  {
   "cell_type": "code",
   "execution_count": 191,
   "metadata": {},
   "outputs": [],
   "source": [
    "clf3 = DecisionTreeClassifier()"
   ]
  },
  {
   "cell_type": "code",
   "execution_count": 280,
   "metadata": {},
   "outputs": [
    {
     "name": "stdout",
     "output_type": "stream",
     "text": [
      "+---------------------------+------+------+------+------+------+------+\n",
      "|         Dataframe         | Run1 | Run2 | Run3 | Run4 | Run5 | Mean |\n",
      "+---------------------------+------+------+------+------+------+------+\n",
      "|         NBI: 466F         | 0.56 | 0.4  | 0.73 | 0.4  | 0.33 | 0.49 |\n",
      "| Remove low variance: 116F | 0.56 | 0.73 | 0.73 | 0.67 | 0.33 | 0.61 |\n",
      "| bestforest from 116F: 30F | 0.69 | 0.8  | 0.87 | 0.53 | 0.4  | 0.66 |\n",
      "|      Top 20 from 116F     | 0.69 | 0.67 | 0.67 | 0.4  | 0.6  | 0.6  |\n",
      "|   bestforest from top 20  | 0.62 | 0.6  | 0.67 | 0.73 | 0.6  | 0.64 |\n",
      "|      Top 6 from 116F      | 0.62 | 0.67 | 0.67 | 0.6  | 0.67 | 0.64 |\n",
      "|   Top 6 based on labels   | 0.5  | 0.33 | 0.53 | 0.47 | 0.47 | 0.46 |\n",
      "|   Top 3 based on labels   | 0.69 | 0.6  | 0.87 | 0.67 | 0.6  | 0.68 |\n",
      "|    Top 4 (same in 6-7)    | 0.69 | 0.67 | 0.67 | 0.67 | 0.67 | 0.67 |\n",
      "|      one best feature     | 0.5  | 0.33 | 0.53 | 0.47 | 0.47 | 0.46 |\n",
      "|          new data         | 0.44 | 0.67 | 0.73 | 0.47 | 0.53 | 0.57 |\n",
      "+---------------------------+------+------+------+------+------+------+\n"
     ]
    }
   ],
   "source": [
    "table = PrettyTable(field_names=['Dataframe', 'Run1', 'Run2', 'Run3', 'Run4', 'Run5', 'Mean'])\n",
    "\n",
    "for i, df in enumerate(dataframes):\n",
    "    scores = cross_val_score(clf3, df, y_nbi, cv=5)\n",
    "    mean = round(scores.mean(), 2)\n",
    "    table.add_row([names[i], round(scores[0], 2), round(scores[1], 2), round(scores[2], 2), round(scores[3], 2), round(scores[4], 2), mean])\n",
    "    \n",
    "print(table)"
   ]
  },
  {
   "cell_type": "markdown",
   "metadata": {},
   "source": [
    "### Support Vector Machine"
   ]
  },
  {
   "cell_type": "code",
   "execution_count": 281,
   "metadata": {},
   "outputs": [
    {
     "name": "stdout",
     "output_type": "stream",
     "text": [
      "+---------------------------+------+------+------+------+------+------+\n",
      "|         Dataframe         | Run1 | Run2 | Run3 | Run4 | Run5 | Mean |\n",
      "+---------------------------+------+------+------+------+------+------+\n",
      "|         NBI: 466F         | 0.5  | 0.53 | 0.53 | 0.47 | 0.4  | 0.49 |\n",
      "| Remove low variance: 116F | 0.5  | 0.53 | 0.53 | 0.47 | 0.4  | 0.49 |\n",
      "| bestforest from 116F: 30F | 0.5  | 0.73 | 0.53 | 0.67 | 0.6  | 0.61 |\n",
      "|      Top 20 from 116F     | 0.5  | 0.47 | 0.6  | 0.6  | 0.4  | 0.51 |\n",
      "|   bestforest from top 20  | 0.5  | 0.6  | 0.6  | 0.6  | 0.47 | 0.55 |\n",
      "|      Top 6 from 116F      | 0.38 | 0.53 | 0.47 | 0.53 | 0.47 | 0.48 |\n",
      "|   Top 6 based on labels   | 0.62 | 0.6  | 0.6  | 0.67 | 0.47 | 0.59 |\n",
      "|   Top 3 based on labels   | 0.44 | 0.4  | 0.6  | 0.67 | 0.53 | 0.53 |\n",
      "|    Top 4 (same in 6-7)    | 0.5  | 0.6  | 0.6  | 0.6  | 0.6  | 0.58 |\n",
      "|      one best feature     | 0.62 | 0.6  | 0.6  | 0.67 | 0.47 | 0.59 |\n",
      "|          new data         | 0.44 | 0.4  | 0.53 | 0.47 | 0.47 | 0.46 |\n",
      "+---------------------------+------+------+------+------+------+------+\n"
     ]
    }
   ],
   "source": [
    "clf4 = SVC(kernel='rbf', probability=True)\n",
    "\n",
    "table = PrettyTable(field_names=['Dataframe', 'Run1', 'Run2', 'Run3', 'Run4', 'Run5', 'Mean'])\n",
    "\n",
    "for i, df in enumerate(dataframes):\n",
    "    scores = cross_val_score(clf2, df, y_nbi, cv=5)\n",
    "    mean = round(scores.mean(), 2)\n",
    "    table.add_row([names[i], round(scores[0], 2), round(scores[1], 2), round(scores[2], 2), round(scores[3], 2), round(scores[4], 2), mean])\n",
    "    \n",
    "print(table)"
   ]
  },
  {
   "cell_type": "code",
   "execution_count": 112,
   "metadata": {},
   "outputs": [
    {
     "name": "stdout",
     "output_type": "stream",
     "text": [
      "+---------------------------+------+------+------+------+------+------+\n",
      "|         Dataframe         | Run1 | Run2 | Run3 | Run4 | Run5 | Mean |\n",
      "+---------------------------+------+------+------+------+------+------+\n",
      "|         NBI: 466F         | 0.5  | 0.67 | 0.47 | 0.6  | 0.47 | 0.54 |\n",
      "| Remove low variance: 116F | 0.5  | 0.67 | 0.47 | 0.6  | 0.47 | 0.54 |\n",
      "| bestforest from 116F: 30F | 0.5  | 0.53 | 0.73 | 0.6  | 0.6  | 0.59 |\n",
      "|      Top 20 from 116F     | 0.81 | 0.47 | 0.53 | 0.4  | 0.6  | 0.56 |\n",
      "|   bestforest from top 20  | 0.5  | 0.6  | 0.53 | 0.53 | 0.4  | 0.51 |\n",
      "|      Top 6 from 116F      | 0.56 | 0.6  | 0.67 | 0.67 | 0.53 | 0.61 |\n",
      "|   Top 6 based on labels   | 0.69 | 0.53 | 0.67 | 0.67 | 0.47 | 0.6  |\n",
      "|   Top 3 based on labels   | 0.69 | 0.67 | 0.6  | 0.6  | 0.47 | 0.6  |\n",
      "|    Top 4 (same in 6-7)    | 0.69 | 0.47 | 0.67 | 0.6  | 0.47 | 0.58 |\n",
      "|      one best feature     | 0.69 | 0.6  | 0.73 | 0.8  | 0.53 | 0.67 |\n",
      "|          new data         | 0.69 | 0.8  | 0.87 | 0.67 | 0.53 | 0.71 |\n",
      "+---------------------------+------+------+------+------+------+------+\n"
     ]
    }
   ],
   "source": [
    "clf4 = SVC(kernel='linear', probability=True)\n",
    "\n",
    "table = PrettyTable(field_names=['Dataframe', 'Run1', 'Run2', 'Run3', 'Run4', 'Run5', 'Mean'])\n",
    "\n",
    "for i, df in enumerate(dataframes):\n",
    "    scores = cross_val_score(clf4, df, y_nbi, cv=5)\n",
    "    mean = round(scores.mean(), 2)\n",
    "    table.add_row([names[i], round(scores[0], 2), round(scores[1], 2), round(scores[2], 2), round(scores[3], 2), round(scores[4], 2), mean])\n",
    "    \n",
    "print(table)"
   ]
  },
  {
   "cell_type": "code",
   "execution_count": null,
   "metadata": {},
   "outputs": [],
   "source": []
  }
 ],
 "metadata": {
  "kernelspec": {
   "display_name": "Python 3",
   "language": "python",
   "name": "python3"
  },
  "language_info": {
   "codemirror_mode": {
    "name": "ipython",
    "version": 3
   },
   "file_extension": ".py",
   "mimetype": "text/x-python",
   "name": "python",
   "nbconvert_exporter": "python",
   "pygments_lexer": "ipython3",
   "version": "3.8.3"
  }
 },
 "nbformat": 4,
 "nbformat_minor": 4
}
